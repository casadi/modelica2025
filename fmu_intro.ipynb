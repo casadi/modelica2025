{
 "cells": [
  {
   "attachments": {},
   "cell_type": "markdown",
   "id": "muslim-trinidad",
   "metadata": {},
   "source": [
    "# Introduction to FMU interoperability in CasADi\n",
    "Joel Andersson (joel@fmiopt.com) Joris Gillis (joris@yacoda.com)\n",
    "\n",
    "16th International Modelica Conference,\n",
    "\n",
    "Lucerne, September 8, 2025"
   ]
  },
  {
   "cell_type": "markdown",
   "id": "ff123e6d",
   "metadata": {},
   "source": [
    "## CasADi and Modelica/FMI\n",
    " * Modelica interoperability was the original motivation to start developing CasADi\n",
    "   - vICERP project, anno ~2010\n",
    " * Multiple paths have been explored\n",
    "   - JModelica.org/OpenModelica -> FMUX -> CasADi\n",
    "     * FMUX: FMI 1.0 with model equations added to the FMI XML\n",
    "   - Direct symbolic coupling to CasADi\n",
    "     - JModelica.org\n",
    "     - Modelon Impact / OCT\n",
    "     - Pymoca\n",
    "   - Since ~2020: **Support for standard FMUs in CasADi** (focus here)\n",
    "     - New foreign function interface in CasADi, interacts directly with the FMI C and XML APIs\n",
    "     - Still not mature, but increasingly useful in actual application"
   ]
  },
  {
   "attachments": {},
   "cell_type": "markdown",
   "id": "stopped-alfred",
   "metadata": {},
   "source": [
    "## FMI import in CasADi"
   ]
  },
  {
   "cell_type": "markdown",
   "id": "a3f7c83f",
   "metadata": {},
   "source": [
    "### Obtaining CasADi\n",
    "If you haven't already, make sure have installed CasADi. The following tutorial assumes CasADi 3.7.1 or later.\n",
    "CasADi can be installed using pip:"
   ]
  },
  {
   "cell_type": "code",
   "execution_count": 1,
   "id": "eccf5424",
   "metadata": {},
   "outputs": [],
   "source": [
    "# Install CasADi (uncomment if needed)\n",
    "#!pip install casadi"
   ]
  },
  {
   "cell_type": "markdown",
   "id": "760fa9b5",
   "metadata": {},
   "source": [
    "We also need matplotlib for plotting."
   ]
  },
  {
   "cell_type": "code",
   "execution_count": 2,
   "id": "a7c93a64",
   "metadata": {},
   "outputs": [],
   "source": [
    "# Install matplotlib (uncomment if needed)\n",
    "#!pip install matplotlib"
   ]
  },
  {
   "attachments": {},
   "cell_type": "markdown",
   "id": "automatic-contamination",
   "metadata": {},
   "source": [
    "### A Modelica race car example\n",
    "We will consider a race car described by a so-called \"bicycle model\", as described in\n",
    "\n",
    "*NMPC for Racing Using a Singularity-Free Path-Parametric Model with Obstacle Avoidance* by Kloeser et al (2020): \\\n",
    "https://www.sciencedirect.com/science/article/pii/S2405896320317845\n",
    "https://publications.syscop.de/Kloeser2020.pdf\n",
    "\n",
    "![car_racing_an_oval_track](resources/car_racing_an_oval_track.svg)\n",
    "\n",
    "The model in that paper can be written in Modelica as follows:"
   ]
  },
  {
   "cell_type": "code",
   "execution_count": 3,
   "id": "outer-convenience",
   "metadata": {},
   "outputs": [
    {
     "name": "stdout",
     "output_type": "stream",
     "text": [
      "model Kloeser2020 \"Bicycle model of a model race car, from Kloeser2020 paper\"\n",
      "  import Modelica.Math.*;\n",
      "\n",
      "  // --- Parameters (Table 1 from Kloeser2020) ---\n",
      "  parameter Real m    = 0.043  \"Mass [kg]\";\n",
      "  parameter Real lr   = 0.025  \"Rear length [m]\";\n",
      "  parameter Real lf   = 0.025  \"Front length [m]\";\n",
      "  parameter Real cm1  = 0.28;\n",
      "  parameter Real cm2  = 0.05;\n",
      "  parameter Real cr0  = 0.006;\n",
      "  parameter Real cr2  = 0.011;\n",
      "  parameter Real cr3  = 5.0;\n",
      "\n",
      "  // Constant curvature (circle)\n",
      "  Real kappa \"Road curvature [1/m] (constant)\";\n",
      "\n",
      "  // --- Inputs ---\n",
      "  input Real D_der(min = -20.0, max = 20.0)     \"Rate of electric motor duty cycle\";\n",
      "  input Real delta_der(min = -4.0, max = 4.0) \"Rate of steering angle\";\n",
      "\n",
      "  Real D(min = -1, max = 1, start = 0)         \"Duty cycle of electric motor\";\n",
      "  Real delta(min = -0.8, max = 0.8, start = 0) \"Steering angle\";\n",
      "  \n",
      "  // --- Outputs ---\n",
      "  output Real acc_long \"Longitudinal acceleration\";\n",
      "  output Real acc_lat  \"Lateral acceleration\";\n",
      "  \n",
      "  output Real p_x \"car x coordinate\";\n",
      "  output Real p_y \"car y coordinate\";\n",
      "\n",
      "  output Real c_x \"Center line x coordinate\";\n",
      "  output Real c_y \"Center line y coordinate\";\n",
      "  output Real e_n_x \"Central path normal vector, projection on world x\";\n",
      "  output Real e_n_y \"Central path normal vector, projection on world y\";\n",
      "\n",
      "  // --- States ---\n",
      "  Real s(start=1)     \"Tangential position\";\n",
      "  Real n(start=0)     \"Normal position\";\n",
      "  Real alpha(start=0) \"Heading\";\n",
      "  Real v(start=3)     \"Speed\";\n",
      "\n",
      "  // Auxiliaries\n",
      "  Real beta;\n",
      "  Real Fx_d;\n",
      "  Real ds, dn, dalpha, dv;\n",
      "  \n",
      "  Real s_mod \"s wrapped to [0, 4*pi)\";\n",
      "\n",
      "  // ---- Local functions ----\n",
      "  function logsumexp2\n",
      "    \"Numerically stable LSE for two arguments with temperature alpha\"\n",
      "    input Real a;\n",
      "    input Real b;\n",
      "    input Real alpha=0.1;\n",
      "    output Real y;\n",
      "  protected \n",
      "    Real m;\n",
      "  algorithm \n",
      "    m := if a > b then a else b;\n",
      "    y := m + alpha*Modelica.Math.log(\n",
      "            Modelica.Math.exp((a - m)/alpha) \n",
      "          + Modelica.Math.exp((b - m)/alpha));\n",
      "  end logsumexp2;\n",
      "\n",
      "  function clip1\n",
      "    \"Smooth min(x,1) via -logsumexp([-1,-x]) with temperature alpha\"\n",
      "    input Real x;\n",
      "    input Real alpha=0.1;\n",
      "    output Real y;\n",
      "  algorithm \n",
      "    y := -logsumexp2(-1.0, -x, alpha);\n",
      "  end clip1;\n",
      "  \n",
      "equation\n",
      "  // beta (slip-free approximation, small angle)\n",
      "  beta = lr/(lr + lf) * delta;\n",
      "\n",
      "  // Longitudinal force\n",
      "  Fx_d = (cm1 - cm2*v)*D - cr2*v*v - cr0*tanh(cr3*v);\n",
      "  \n",
      "  kappa = (-clip1(-clip1(-10*sin(s), 0.1), 0.1) + 1.0)/2.0;\n",
      "\n",
      "  // Dynamics\n",
      "  ds     = v*cos(alpha + beta)/(1 - n*kappa);\n",
      "  dn     = v*sin(alpha + beta);\n",
      "  dalpha = (v/lr)*sin(beta) - kappa*ds;\n",
      "  dv     = (Fx_d/m)*cos(beta);\n",
      "\n",
      "  der(s)     = ds;\n",
      "  der(n)     = dn;\n",
      "  der(alpha) = dalpha;\n",
      "  der(v)     = dv;\n",
      "\n",
      "  der(D)     = D_der;\n",
      "  der(delta) = delta_der;\n",
      "\n",
      "  // Outputs\n",
      "  acc_long = Fx_d/m;\n",
      "  acc_lat  = v*v/lr*sin(beta) + Fx_d*sin(beta)/m;\n",
      "\n",
      "  // s modulo 4π\n",
      "  s_mod = s; // Note: OpenModelica FMU derivatives choke on s_mod = mod(s, 4*Modelica.Constants.pi);\n",
      "\n",
      "  // Piecewise definition of gamma and normal\n",
      "  if noEvent(s_mod < Modelica.Constants.pi) then\n",
      "    c_x   = s_mod;\n",
      "    c_y   = 0;\n",
      "    e_n_x = 0;\n",
      "    e_n_y = 1;\n",
      "  elseif noEvent(s_mod < 2*Modelica.Constants.pi) then\n",
      "    c_x   = sin(s - Modelica.Constants.pi) + Modelica.Constants.pi;\n",
      "    c_y   = 1 - cos(s - Modelica.Constants.pi);\n",
      "    e_n_x = -sin(s - Modelica.Constants.pi);\n",
      "    e_n_y =  cos(s - Modelica.Constants.pi);\n",
      "  elseif noEvent(s_mod < 3*Modelica.Constants.pi) then\n",
      "    c_x   = 3*Modelica.Constants.pi - s_mod;\n",
      "    c_y   = 2;\n",
      "    e_n_x = 0;\n",
      "    e_n_y = -1;\n",
      "  else\n",
      "    c_x   = -sin(s - 3*Modelica.Constants.pi);\n",
      "    c_y   =  1 + cos(s - 3*Modelica.Constants.pi);\n",
      "    e_n_x =  sin(s - 3*Modelica.Constants.pi);\n",
      "    e_n_y = -cos(s - 3*Modelica.Constants.pi);\n",
      "  end if;\n",
      "  \n",
      "  p_x = c_x+n*e_n_x;\n",
      "  p_y = c_y+n*e_n_y;\n",
      "end Kloeser2020;\n",
      "\n",
      "\n"
     ]
    }
   ],
   "source": [
    "# Toy example: Van der Pol oscillator\n",
    "mofile = 'Kloeser2020.mo'\n",
    "with open(mofile, 'r') as myfile: print(myfile.read())"
   ]
  },
  {
   "cell_type": "markdown",
   "id": "35f62a45",
   "metadata": {},
   "source": [
    "We assume an oval race track with no banking, consisting of two half circles and two straight segments.\n",
    "\n",
    "The main variables of the problem are sketched below.\n",
    "![car_coordinates](resources/car_coordinates.svg)\n",
    "\n",
    "For details about the model equations, we refer to the above article."
   ]
  },
  {
   "attachments": {},
   "cell_type": "markdown",
   "id": "covered-argentina",
   "metadata": {},
   "source": [
    "### Compiling the model into an FMU\n",
    "\n",
    " * The Functional Mockup Interface (FMI) provides a standardized interface to dynamic systems\n",
    "   - While a Modelica Association Project, it is not limited to Modelica\n",
    "   - Started in 2010, it is now at version 3 and supported by 250+ tools\n",
    " * The standard describe Functional Mockup Units (FMUs) which are ZIP archives, containing a number of files, in particular\n",
    "   - an XML adhering to the FMI XML API, and \n",
    "   - one or more dynamically linked libraries (DLLs), adhering to the FMI C API\n",
    " * An FMU with support for *model exchange* exposes the lower-level DAE formulation we need for dynamic optimization\n",
    "   - Support for *co-simulation* can be used to validate simulation results, but is of limited use for gradient-based optimization\n",
    " * In today's tutorial, all FMUs have been generated by OpenModelica and cross-compiled for Windows, Linux & Mac (Apple or Intel silicon)"
   ]
  },
  {
   "cell_type": "code",
   "execution_count": 4,
   "id": "statistical-pepper",
   "metadata": {},
   "outputs": [
    {
     "name": "stdout",
     "output_type": "stream",
     "text": [
      "Using precompiled FMU: /home/jaeandersson/projects/modelica_2025_workshop/fmus/kloeser2020.fmu\n"
     ]
    }
   ],
   "source": [
    "from pathlib import Path\n",
    "fmu_file = Path.cwd() / 'fmus' / 'kloeser2020.fmu'\n",
    "print(f'Using precompiled FMU: {fmu_file}')"
   ]
  },
  {
   "attachments": {},
   "cell_type": "markdown",
   "id": "ethical-boards",
   "metadata": {},
   "source": [
    "## DaeBuilder instances\n",
    "* CasADi supports the import of model exchange FMI 2 and FMI 3\n",
    "* Unlike other external interfaces in CasADi, FMUs are imported in two steps:\n",
    "  * First, a *mutable* `casadi.DaeBuilder` instance is created\n",
    "  * Then, one or more *immutable* `casadi.FmuFunction` instances are created\n",
    "* To create a `casadi.DaeBuilder` instance from an FMU, pass a desired name for the instance and the path to the FMU\n",
    "  * You can pass either the unzipped FMU directory, or the original FMU. In the latter case, CasADi will unzip it into a temporary directory.\n",
    "  * Only the FMI XML API is used to create the `casadi.DaeBuilder` instance\n",
    "  * Mutable: Can manipulate after creation"
   ]
  },
  {
   "cell_type": "code",
   "execution_count": 5,
   "id": "objective-avenue",
   "metadata": {},
   "outputs": [
    {
     "name": "stdout",
     "output_type": "stream",
     "text": [
      "nx = 6, nz = 0, nq = 0, ny = 8, np = 0, nc = 8, nd = 0, nw = 22, nu = 2\n",
      "Model variables:\n",
      "  c = [cm1, cm2, cr0, cr2, cr3, lf, lr, m]\n",
      "  x = [D, alpha, delta, n, s, v]\n",
      "  w = [der(D), der(alpha), der(delta), der(n), der(s), der(v), Fx_d, acc_lat, acc_long, beta, c_x, c_y, dalpha, dn, ds, dv, e_n_x, e_n_y, kappa, p_x, p_y, s_mod]\n",
      "  u = [D_der, delta_der]\n",
      "List of constants (c):\n",
      "  cm1\n",
      "  cm2\n",
      "  cr0\n",
      "  cr2\n",
      "  cr3\n",
      "  lf\n",
      "  lr\n",
      "  m\n",
      "List of dependent variables (w):\n",
      "  der(D)\n",
      "  der(alpha)\n",
      "  der(delta)\n",
      "  der(n)\n",
      "  der(s)\n",
      "  der(v)\n",
      "  Fx_d\n",
      "  acc_lat\n",
      "  acc_long\n",
      "  beta\n",
      "  c_x\n",
      "  c_y\n",
      "  dalpha\n",
      "  dn\n",
      "  ds\n",
      "  dv\n",
      "  e_n_x\n",
      "  e_n_y\n",
      "  kappa\n",
      "  p_x\n",
      "  p_y\n",
      "  s_mod\n",
      "Time derivatives of differential states (x):\n",
      "  D: der(D)\n",
      "  alpha: der(alpha)\n",
      "  delta: der(delta)\n",
      "  n: der(n)\n",
      "  s: der(s)\n",
      "  v: der(v)\n",
      "Outputs (y):\n",
      "  acc_lat: acc_lat\n",
      "  acc_long: acc_long\n",
      "  c_x: c_x\n",
      "  c_y: c_y\n",
      "  e_n_x: e_n_x\n",
      "  e_n_y: e_n_y\n",
      "  p_x: p_x\n",
      "  p_y: p_y\n"
     ]
    }
   ],
   "source": [
    "# Use FMU to create a CasADi/DaeBuilder instance\n",
    "import casadi as ca\n",
    "dae = ca.DaeBuilder('racecar', str(fmu_file))\n",
    "dae.disp(True)"
   ]
  },
  {
   "cell_type": "markdown",
   "id": "c02b77d6",
   "metadata": {},
   "source": [
    "The classification of FMU model variables in CasADi, e.g. $x$ for the state vector and $u$ for the controls, is described in \\\n",
    " https://web.casadi.org/docs/#document-daebuilder"
   ]
  },
  {
   "cell_type": "markdown",
   "id": "raised-honey",
   "metadata": {},
   "source": [
    "### Accessing meta information\n",
    "Once a DaeBuilder instance has been loaded, we can access (or change) the meta information from the FMU XML API:"
   ]
  },
  {
   "cell_type": "code",
   "execution_count": 6,
   "id": "compact-breathing",
   "metadata": {},
   "outputs": [
    {
     "name": "stdout",
     "output_type": "stream",
     "text": [
      "x:  ['D', 'alpha', 'delta', 'n', 's', 'v']\n",
      "lbx:  [-1.  -inf -0.8 -inf -inf -inf]\n",
      "ubx:  [1.  inf 0.8 inf inf inf]\n",
      "x0:  [0. 0. 0. 0. 1. 3.]\n"
     ]
    }
   ],
   "source": [
    "import numpy as np\n",
    "# State vector\n",
    "x = dae.x()\n",
    "# Upper and lower bounds\n",
    "lbx = np.array(dae.min(x))\n",
    "ubx = np.array(dae.max(x))\n",
    "# Initial state\n",
    "x0 = np.array(dae.start(x))\n",
    "\n",
    "print('x: ', x)\n",
    "print('lbx: ', lbx)\n",
    "print('ubx: ', ubx)\n",
    "print('x0: ', x0)"
   ]
  },
  {
   "cell_type": "code",
   "execution_count": 7,
   "id": "consistent-cambridge",
   "metadata": {},
   "outputs": [
    {
     "name": "stdout",
     "output_type": "stream",
     "text": [
      "u:  ['D_der', 'delta_der']\n",
      "lbu:  [-20.  -4.]\n",
      "ubu:  [20.  4.]\n"
     ]
    }
   ],
   "source": [
    "# Control vector\n",
    "u = dae.u()\n",
    "# Upper and lower bounds\n",
    "lbu = np.array(dae.min(u))\n",
    "ubu = np.array(dae.max(u))\n",
    "\n",
    "print('u: ', u)\n",
    "print('lbu: ', lbu)\n",
    "print('ubu: ', ubu)"
   ]
  },
  {
   "cell_type": "code",
   "execution_count": null,
   "id": "5cce0940",
   "metadata": {},
   "outputs": [
    {
     "ename": "NameError",
     "evalue": "name 'bb' is not defined",
     "output_type": "error",
     "traceback": [
      "\u001b[31m---------------------------------------------------------------------------\u001b[39m",
      "\u001b[31mNameError\u001b[39m                                 Traceback (most recent call last)",
      "\u001b[36mCell\u001b[39m\u001b[36m \u001b[39m\u001b[32mIn[8]\u001b[39m\u001b[32m, line 2\u001b[39m\n\u001b[32m      1\u001b[39m \u001b[38;5;66;03m# Output vector\u001b[39;00m\n\u001b[32m----> \u001b[39m\u001b[32m2\u001b[39m y = \u001b[43mbb\u001b[49m.y()\n\u001b[32m      3\u001b[39m \u001b[38;5;66;03m# Upper and lower bounds\u001b[39;00m\n\u001b[32m      4\u001b[39m lby = np.array(bb.min(y))\n",
      "\u001b[31mNameError\u001b[39m: name 'bb' is not defined"
     ]
    }
   ],
   "source": [
    "# Output vector\n",
    "y = dae.y()\n",
    "# Upper and lower bounds\n",
    "lby = np.array(dae.min(y))\n",
    "uby = np.array(dae.max(y))\n",
    "\n",
    "print('y: ', y)\n",
    "print('lby: ', lby)\n",
    "print('uby: ', uby)"
   ]
  },
  {
   "attachments": {},
   "cell_type": "markdown",
   "id": "alien-conclusion",
   "metadata": {},
   "source": [
    "## FmuFunction instances\n",
    "\n",
    "* Interface to the FMU C API\n",
    "* Created from DaeBuilder instances\n",
    "* Standard CasADi Function object\n",
    "  * Immutable after creation: Takes a snapshot of the current DaeBuilder state\n",
    "  * FMU is *instantiated* and *initialized* once, during creation of the FmuFunction, can be called many times\n",
    "  * Can be embedded into symbolic expressions with automatic derivative calculation\n",
    "\n",
    "Example: Create a function object that calculates the ODE right-hand-sides and outputs as a function of the state vector $x$ and the controls $u$:"
   ]
  },
  {
   "cell_type": "code",
   "execution_count": null,
   "id": "creative-graduation",
   "metadata": {},
   "outputs": [],
   "source": [
    "# Evaluate ODE right-hand-side\n",
    "f = dae.create('f', ['x', 'u'], ['ode', 'y'])\n",
    "print(f)\n",
    "# Evaluate the function numerically\n",
    "u_test = np.array([1.1, -.5])\n",
    "ode_test, y_test = f(x0, u_test)\n",
    "print(f'der(x) = {ode_test}, y = {y_test}')"
   ]
  },
  {
   "attachments": {},
   "cell_type": "markdown",
   "id": "descending-wrong",
   "metadata": {},
   "source": [
    "You can decide which inputs and outputs to include when creating FmuFunction instances. \\\n",
    "In general, you should only include an input if you want it to be manipulated by an optimization or simulation routine.\n",
    "If an input is not explicitly included, the value in the DaeBuilder class is used:"
   ]
  },
  {
   "cell_type": "code",
   "execution_count": null,
   "id": "controversial-lemon",
   "metadata": {},
   "outputs": [],
   "source": [
    "# Alternative ODE right-hand-side function with u fixed\n",
    "dae.set('D_der', 1.1)\n",
    "dae.set('delta_der', 0.5)\n",
    "f_no_u = dae.create('f_no_u', ['x'], ['ode', 'y'])\n",
    "print(f_no_u)\n",
    "# Evaluate the function numerically\n",
    "ode_no_u, y_no_u = f_no_u(x0)\n",
    "print(f'der(x) = {ode_no_u}, y = {y_no_u}')"
   ]
  },
  {
   "attachments": {},
   "cell_type": "markdown",
   "id": "acute-thanksgiving",
   "metadata": {},
   "source": [
    "Only real-valued functions inputs are permitted: boolean- or string-valued *must* be set in the DaeBuilder class.\n",
    "\n",
    "Similarly, only real-valued, differentiable variables should be included in the list of function outputs. \\\n",
    "Other variables can be included as \"auxilliary variables\" by specifying the \"aux\" option - the requested values will then be retrieved from the *stats*:"
   ]
  },
  {
   "cell_type": "code",
   "execution_count": null,
   "id": "prerequisite-rouge",
   "metadata": {},
   "outputs": [],
   "source": [
    "# Evaluate ODE right-hand-side with y as auxilliary field\n",
    "f_with_aux = dae.create('f_with_aux', ['x', 'u'], ['ode'], dict(aux = dae.y()))\n",
    "print(f_with_aux)\n",
    "# After evaluation, the aux variables are in the stats field of the CasADi function:\n",
    "ode_test_with_aux = f_with_aux(x0, u_test)\n",
    "print(f'der(x) = {ode_test_with_aux}')\n",
    "print(f_with_aux.stats()['aux'])"
   ]
  },
  {
   "cell_type": "markdown",
   "id": "9be59086",
   "metadata": {},
   "source": [
    "## Derivative calculations\n",
    " * Derivative calculation of the model equations are crucial for gradient-based optimization\n",
    " * Ideally, we want both first and second order derivatives\n",
    " * If using FMI models in CasADi, it is important to understand which derivatives are calculated, and how\n",
    "   - Less forgiving than models expressed in CasADi symbolics\n",
    "   - Model may not be smooth enough for optimization\n",
    "   - Exporting tool may not calculate derivatives correctly, or efficiently\n",
    "\n",
    "In the following, we discuss how to obtain the most important types of derivative information from the FMU, using CasADi:\n",
    " * Jacobians\n",
    " * Forward directional derivatives\n",
    " * Adjoint directional derivatives\n",
    " * Hessians"
   ]
  },
  {
   "cell_type": "markdown",
   "id": "danish-ownership",
   "metadata": {},
   "source": [
    "### First order derivatives - Jacobians\n",
    "\n",
    "First order derivative information can be obtained either numerically or analytically. \\\n",
    "In either case, the Jacobian sparsity information in the FMU will be exploited using CasADi's graph coloring techniques:"
   ]
  },
  {
   "cell_type": "code",
   "execution_count": null,
   "id": "major-plane",
   "metadata": {},
   "outputs": [],
   "source": [
    "# A function that calculates the ODE, outputs and the four Jacobian blocks:\n",
    "J = dae.create('J', ['x', 'u'], ['ode', 'y', 'jac_ode_x', 'jac_ode_u', 'jac_y_x', 'jac_y_u'])\n",
    "print(J)\n",
    "\n",
    "# Evaluate Jacobian\n",
    "ode_test, y_test, A_test, B_test, C_test, D_test = J(x0, u_test)\n",
    "print(f'ode = {ode_test}, y = {y_test}')\n",
    "print('A_test: ', A_test)\n",
    "print('B_test: ', B_test)\n",
    "print('C_test: ', C_test)\n",
    "print('D_test: ', D_test)"
   ]
  },
  {
   "attachments": {},
   "cell_type": "markdown",
   "id": "centered-picture",
   "metadata": {},
   "source": [
    "* All matrices above (and in CasADi) are *sparse*: 00 above refers to a structural zero.\n",
    "* The Jacobian evaluation can be done in parallel, using either OpenMP or std::thread\n",
    "   * Useful for simulation and steady-state optimization\n",
    "   * For dynamic optimization, usually better to parallelize along the time horizon"
   ]
  },
  {
   "cell_type": "markdown",
   "id": "c3967ae9",
   "metadata": {},
   "source": [
    "### Finite difference calculation of derivatives\n",
    "For most applications of interest, we want to have analytic directional derivative support in the FMU, which can be checked as follows:"
   ]
  },
  {
   "cell_type": "code",
   "execution_count": null,
   "id": "f5e41d18",
   "metadata": {},
   "outputs": [],
   "source": [
    "dae.provides_directional_derivative()"
   ]
  },
  {
   "cell_type": "markdown",
   "id": "faf3ebae",
   "metadata": {},
   "source": [
    "CasADi's FMU interface also supports finite difference derivative approximations of derivatives\n",
    "* The intended purpose of this facility not to be an alternative to analytic derivatives, but to\n",
    "  - *validate* analytic derivatives for correctness, and to\n",
    "  - calculate *second order* derivative information.\n",
    "* Finite differences derivatives can be calculated using using one of three schemes:\n",
    "  - Forward (or backward) differences, using $f(x)$ and either $f(x+h)$ or $f(x-h)$\n",
    "  - Central differences, using $f(x-h), f(x), f(x+h)$\n",
    "  - A smoothness seeking scheme using 5-point stencils: $f(x-2h), f(x-h), f(x), f(x+h), f(x+2h)$\n",
    "* The finite difference purturbations are designed to be *predictable*:\n",
    "  - All schemes will use a fixed perturbation (by default 1e-6) scaled by the nominal values in the FMU\n",
    "  - User is responsible for ensuring that nominal values are reasonable\n",
    "  - Min and max for FMU model variables are respected by avoiding positive or negative perturbations for finite differences\n",
    "\n",
    "Create an FmuFunction instance that uses finite difference derivatives by:\n",
    "  * Setting `uses_directional_derivatives=False` to only do finite differences, or\n",
    "  * Setting `validate_forward=True` to have the finite difference implementation run in \"shadow mode\"\n",
    "     - Analytic derivatives are compared with a finite difference approximation\n",
    "     - Warnings are emitted if the difference exceeds a threshold\n",
    "  \n"
   ]
  },
  {
   "cell_type": "code",
   "execution_count": null,
   "id": "wanted-projection",
   "metadata": {},
   "outputs": [],
   "source": [
    "# A function that calculates the ODE and two Jacobian blocks:\n",
    "J_fd = dae.create('J_fd', ['x', 'u'], ['jac_ode_x', 'jac_ode_u'], dict(uses_directional_derivatives = False))\n",
    "print(J_fd)\n",
    "\n",
    "# Evaluate Jacobian\n",
    "A_fd, B_fd = J_fd(x0, u_test)\n",
    "print('A_fd: ', A_fd)\n",
    "print('B_fd: ', B_fd)"
   ]
  },
  {
   "cell_type": "markdown",
   "id": "9a179d8b",
   "metadata": {},
   "source": [
    "### First order derivatives - forward and adjoint directional derivatives\n",
    "A *forward* directional derivative is equivalent to a Jacobian-times-vector product:\n",
    "\n",
    "$$\n",
    "\\texttt{fwd\\_y} = \\frac{\\partial y}{\\partial x} \\, \\texttt{fwd\\_x} + \\frac{\\partial y}{\\partial u} \\, \\texttt{fwd\\_u}\n",
    "$$\n",
    "\n",
    "Can be calculated without forming the Jacobian blocks. Computational complexity similar to evaluating the function once.\n",
    "\n",
    "For example, we can calculate the results from perturbing only $D$, as follows:"
   ]
  },
  {
   "cell_type": "code",
   "execution_count": null,
   "id": "61c713d1",
   "metadata": {},
   "outputs": [],
   "source": [
    "# Create a function that calculates forward directional derivative\n",
    "f_fwd = dae.create('f_fwd', ['x', 'u', 'fwd_x', 'fwd_u'], ['fwd_y'])\n",
    "print(f_fwd)\n",
    "\n",
    "# Evaluate the forward directional derivative function, perturbing D\n",
    "fwd_x = np.array([1 if n=='D' else 0 for n in x])\n",
    "fwd_u = np.array([0 for n in u])\n",
    "fwd_y = f_fwd(x0, u_test, fwd_x, fwd_u)\n",
    "print(f'fwd_x = {fwd_x}, fwd_u = {fwd_u}, fwd_y = {fwd_y}')"
   ]
  },
  {
   "cell_type": "markdown",
   "id": "3163f950",
   "metadata": {},
   "source": [
    "Similarly, we can calculate *adjoint* directional derivatives, which is equivalent to a transposed Jacobian-times-vector products.\n",
    "\n",
    "For example, we can calculate\n",
    "$$\n",
    "\\texttt{adj\\_x} = \\frac{\\partial y}{\\partial x}^T \\, \\texttt{adj\\_y} \\quad \\text{and} \\quad \\texttt{adj\\_u} = \\frac{\\partial y}{\\partial u}^T \\, \\texttt{adj\\_y}\n",
    "$$\n",
    "using the following syntax:"
   ]
  },
  {
   "cell_type": "code",
   "execution_count": null,
   "id": "2903e0ee",
   "metadata": {},
   "outputs": [],
   "source": [
    "# Create a function that calculates adjoint directional derivative\n",
    "f_adj = dae.create('f_adj', ['x', 'u', 'adj_y'], ['adj_x', 'adj_u'])\n",
    "print(f_adj)\n",
    "\n",
    "# Evaluate the adjoint directional derivative function, seeding acc_long\n",
    "adj_y = np.array([1 if n=='acc_long' else 0 for n in y])\n",
    "adj_x, adj_u = f_adj(x0, u_test, adj_y)\n",
    "print(f'adj_y = {adj_y}, adj_x: {adj_x}, adj_u: {adj_u}')"
   ]
  },
  {
   "cell_type": "markdown",
   "id": "a1cee162",
   "metadata": {},
   "source": [
    "Adjoint directional derivatives:\n",
    "* If supported by the FMU and correctly implemented, similar complexity to evaluating the function, once\n",
    "* Efficient adjoints is only possible with FMI 3\n",
    "  - In other cases, CasADi will fall back to calculating the Jacobian and multiplying from the left, internally"
   ]
  },
  {
   "attachments": {},
   "cell_type": "markdown",
   "id": "subject-myanmar",
   "metadata": {},
   "source": [
    "### Second order derivatives - Hessians\n",
    "For numerical optimal control we often want to calculate Hessians, i.e. Jacobians of adjoints.\n",
    "\n",
    "The interface supports second order derivatives:\n",
    " * Since not included in the FMI standard, calculation uses finite difference perturbations of forward or adjoint directional derivatives\n",
    " * For Hessians, CasADi will use a worst case sparsity pattern is constructed from the \"dependenciesKind\" field in the FMI XML\n",
    "\n",
    "The syntax follows CasADi's internal naming convention for adjoints and Jacobians:"
   ]
  },
  {
   "cell_type": "code",
   "execution_count": null,
   "id": "grateful-agent",
   "metadata": {},
   "outputs": [],
   "source": [
    "# Create a function that calculate the Hessian of a linear combination of y with respect to x and u: \n",
    "H = dae.create('H', ['x', 'u', 'adj_y'], ['jac_adj_x_x', 'jac_adj_x_u', 'jac_adj_u_u'])\n",
    "print(H)\n",
    "# Evaluate Hessian\n",
    "H_xx, H_xu, H_uu = H(x0, u_test, adj_y)\n",
    "print('H_xx: ', H_xx)\n",
    "print('H_xu: ', H_xu)\n",
    "print('H_uu: ', H_uu)"
   ]
  },
  {
   "cell_type": "markdown",
   "id": "2b982ab5",
   "metadata": {},
   "source": [
    "## Simulation and sensitivity analysis\n",
    "\n",
    "To simulate the DAE with CasADi, we can create an *integrator*. For the above problem, an integrator calculates the state trajectory from controls and initial state:\n",
    "$$\n",
    "\\underbrace{\\left[x(t^{\\text{out}}_0), x(t^{\\text{out}}_1), \\ldots, x(t^{\\text{out}}_{N-1})\\right]}_{\\texttt{xf}} = F(\\underbrace{x(t_0)}_{\\texttt{x0}}, u)\n",
    "$$\n",
    "\n",
    "Integrators in CasADi differentiable instances that can be used for sensitivity analysis or be embedded in an optimization problem.\n",
    "\n",
    "For simulating FMUs in CasADi, the variable-step size, variable order integrator CVODES, from the SUNDIALS suite, is usually a good choice. Create an instance of it as follows:"
   ]
  },
  {
   "cell_type": "code",
   "execution_count": null,
   "id": "04d4e0c1",
   "metadata": {},
   "outputs": [],
   "source": [
    "# Select an output time grid\n",
    "import numpy as np\n",
    "tout = np.linspace(0, 1, 101)\n",
    "# Create an integrator instance\n",
    "simulator = ca.integrator('simulator', 'cvodes', dae.create(), 0, tout)\n",
    "print(simulator)"
   ]
  },
  {
   "cell_type": "code",
   "execution_count": null,
   "id": "4eacddc6",
   "metadata": {},
   "outputs": [],
   "source": [
    "# Remove the unused (zero-dimensional) inputs and outputs by creating a new CasADi function:\n",
    "F = simulator.factory('F', ['x0', 'u'], ['xf'])\n",
    "print(F)"
   ]
  },
  {
   "cell_type": "code",
   "execution_count": null,
   "id": "9bc0079d",
   "metadata": {},
   "outputs": [],
   "source": [
    "# The integrator gives us the state trajectory. To calculate outputs, we form a another function:\n",
    "H = dae.create('H', ['x', 'u'], ['y'])\n",
    "print(H)"
   ]
  },
  {
   "cell_type": "code",
   "execution_count": null,
   "id": "aa3519de",
   "metadata": {},
   "outputs": [],
   "source": [
    "# Simulate with constant controls\n",
    "u_sim = ca.repmat(u_test, 1, len(tout))\n",
    "\n",
    "# Simulate the system\n",
    "xf_sim = F(x0, u_sim)\n",
    "\n",
    "# Also calculate output trajectory\n",
    "y_sim = H(xf_sim, u_sim)\n",
    "\n",
    "# Collect trajectories in a dictionary\n",
    "traj_sim = dict()\n",
    "for k, n in enumerate(u): traj_sim[n] = u_sim[k, :].full().flatten()\n",
    "for k, n in enumerate(x): traj_sim[n] = xf_sim[k, :].full().flatten()\n",
    "for k, n in enumerate(y): traj_sim[n] = y_sim[k, :].full().flatten()\n",
    "traj_sim"
   ]
  },
  {
   "cell_type": "code",
   "execution_count": null,
   "id": "b9c084fb",
   "metadata": {},
   "outputs": [],
   "source": [
    "# Simple plot function to visualize results\n",
    "import matplotlib.pyplot as plt\n",
    "def plot_traj(traj, v = None, columns = 3):\n",
    "  # What to plot? By default everything\n",
    "  if v is None: v = x + y + u\n",
    "  # Number of figures\n",
    "  nfig = len(v)\n",
    "  # Plot with multiple columns\n",
    "  ncol = min(columns, nfig)\n",
    "  nrow = nfig // ncol + (nfig % ncol > 0)\n",
    "  fig = plt.figure(figsize=(15, max(10, 3*nrow)), tight_layout=True)\n",
    "  for k, n in enumerate(v):\n",
    "    ax = fig.add_subplot(nrow, ncol, k + 1)\n",
    "    if n in x:\n",
    "      # Plotting a state\n",
    "      vtype = 'x'\n",
    "      k = x.index(n)\n",
    "      ax.plot(tout, traj[n])\n",
    "    elif n in u:\n",
    "      # Plotting a control\n",
    "      vtype = 'u'\n",
    "      k = u.index(n)\n",
    "      ax.step(tout, traj[n])\n",
    "    elif n in y:\n",
    "      # Plotting an output\n",
    "      vtype = 'y'\n",
    "      k = y.index(n)\n",
    "      ax.plot(tout, traj[n])\n",
    "    else:\n",
    "      raise ValueError(f'Variable {n} not found in x, y or u')\n",
    "    ax.set_title(f'{vtype}[{k}]: {n}')\n",
    "    ax.grid(True)\n",
    "\n",
    "# Plot initial simulation\n",
    "plot_traj(traj_sim)"
   ]
  },
  {
   "cell_type": "markdown",
   "id": "754d498b",
   "metadata": {},
   "source": [
    "## Forward sensitivity analysis \n",
    "Recall:\n",
    "$$\n",
    "\\underbrace{\\left[x(t^{\\text{out}}_0), x(t^{\\text{out}}_1), \\ldots, x(t^{\\text{out}}_{N-1})\\right]}_{\\texttt{xf}} = F(\\underbrace{x(t_0)}_{\\texttt{x0}}, u)\n",
    "$$\n",
    "\n",
    "With forward sensitivity analysis, we can calculate Jacobian-times-vector products for the simulation problem. For the above problem, this means calculating:\n",
    "$$\n",
    "\\texttt{fwd\\_xf} = \\frac{\\partial F(x(t_0), u)}{\\partial x(t_0)} \\, \\texttt{fwd\\_x0} +\n",
    "\\frac{\\partial F(x(t_0), u)}{\\partial u} \\, \\texttt{fwd\\_u}\n",
    "$$\n",
    "\n",
    "In CasADi, we can use the syntax *\\<CasADi function\\>.forward($n$)* to generate a new function that calculates $n$ forward directional derivatives. If you embed an integrator into an optimization formulation, such calls are done internally. For example, if we wanted to find the derivatives of *all* outputs with respect to the initial velocity, this could be calculated as follows:\n"
   ]
  },
  {
   "cell_type": "code",
   "execution_count": null,
   "id": "df9019f5",
   "metadata": {},
   "outputs": [],
   "source": [
    "# Generate a function for forward directional derivatives:\n",
    "fwd_F = F.forward(1)\n",
    "print(fwd_F)\n",
    "\n",
    "# Select forward sensitivities\n",
    "fwd_x0 = np.array([1 if n=='v' else 0 for n in x])\n",
    "fwd_u = np.zeros(u_sim.shape)\n",
    "print('fwd_x0: ', fwd_x0)\n",
    "print('fwd_u: ', fwd_u)\n",
    "\n",
    "# Evaluate the function\n",
    "fwd_xf = fwd_F(x0=x0, u=u_sim, out_xf = xf_sim, fwd_x0 = fwd_x0, fwd_u = fwd_u)['fwd_xf']\n",
    "print('fwd_xf: ', fwd_xf)\n",
    "\n",
    "# Sensitivity of v at end w.r.t. initial v\n",
    "print('dv(t_end)/dv(t0): ', fwd_xf[x.index('v'), -1])\n"
   ]
  },
  {
   "cell_type": "markdown",
   "id": "b83bfcea",
   "metadata": {},
   "source": [
    "Forward sensitivities analysis is equivalent to what can be calculated with finite differences, but more accurately and potentially faster, especially when many sensitivity directions are calculated "
   ]
  },
  {
   "cell_type": "code",
   "execution_count": null,
   "id": "a2115ad2",
   "metadata": {},
   "outputs": [],
   "source": [
    "# Perturb initial state\n",
    "h = 1e-3\n",
    "x0_pert = x0 + h * fwd_x0\n",
    "u_pert = u_sim + h * fwd_u\n",
    "\n",
    "# Using finite differences to calculate the forward sensitivities\n",
    "xf_pert = F(x0_pert, u_pert)\n",
    "\n",
    "# Finite difference approximation\n",
    "fwd_xf_fd = (xf_pert - xf_sim) / h\n",
    "print('fwd_xf_fd: ', fwd_xf_fd)\n",
    "\n",
    "# Sensitivity of v at end w.r.t. initial v\n",
    "print('dv(t_end)/dv(t0): ', fwd_xf_fd[x.index('v'), -1])"
   ]
  },
  {
   "cell_type": "markdown",
   "id": "d1edd86f",
   "metadata": {},
   "source": [
    "## Adjoint sensitivity analysis\n",
    "Recall:\n",
    "$$\n",
    "\\underbrace{\\left[x(t^{\\text{out}}_0), x(t^{\\text{out}}_1), \\ldots, x(t^{\\text{out}}_{N-1})\\right]}_{\\texttt{xf}} = F(\\underbrace{x(t_0)}_{\\texttt{x0}}, u)\n",
    "$$\n",
    "\n",
    "With *adjoint* sensitivity analysis, we can calculate transposed Jacobian-times-vector products for the simulation problem. For the above problem, this means calculating:\n",
    "$$\n",
    "\\texttt{adj\\_x0} = \\left(\\frac{\\partial F(x(t_0), u)}{\\partial x(t_0)}\\right)^T \\, \\texttt{adj\\_xf} \\quad \\text{and} \\quad\n",
    "\\texttt{adj\\_u} = \\left(\\frac{\\partial F(x(t_0), u)}{\\partial u}\\right)^T \\, \\texttt{adj\\_xf}\n",
    "$$\n",
    "\n",
    "In CasADi, we can use the syntax *\\<CasADi function\\>.reverse($m$)* to generate a new function that calculates $m$ adjoint directional derivatives. If you embed an integrator into an optimization formulation, such calls are done internally.\n",
    "\n",
    "For our example, if we wanted to find the final velocity with respect to *all* the inputs, it could be done as follows:"
   ]
  },
  {
   "cell_type": "code",
   "execution_count": null,
   "id": "fc6c70f0",
   "metadata": {},
   "outputs": [],
   "source": [
    "# Generate a function for adjoint directional derivatives:\n",
    "adj_F = F.reverse(1)\n",
    "print(adj_F)\n",
    "\n",
    "# Select adjoint sensitivities\n",
    "adj_xf = np.zeros(xf_sim.shape)\n",
    "adj_xf[x.index('v'), -1] = 1\n",
    "\n",
    "# Evaluate the function\n",
    "res_adj_F = adj_F(x0=x0, u=u_sim, out_xf = xf_sim, adj_xf = adj_xf)\n",
    "adj_x0 = res_adj_F['adj_x0']\n",
    "adj_u = res_adj_F['adj_u']\n",
    "print('adj_x0: ', adj_x0)\n",
    "print('adj_u: ', adj_u)\n",
    "\n",
    "# Sensitivity of v at end w.r.t. initial v\n",
    "print('dv(t_end)/dv(t0): ', adj_x0[x.index('v')])"
   ]
  },
  {
   "cell_type": "markdown",
   "id": "00c85693",
   "metadata": {},
   "source": [
    "## FMI export and reimport\n",
    "\n",
    "* If you have a dynamic model expressed in CasADi symbolics, you can use CasADi to generate an FMI\n",
    "  - Possibly exported from Modelica, using Modelon Impact/OCT or Pymoca or (in development) Rumoca \n",
    "  - Extension of CasADi's C code export\n",
    "  - FMI 3.0, with efficient forward and adjoint derivative calculations\n",
    "* FMI export is a new feature in CasADi\n",
    "  - But builds on mature functionality, such as algorithmic differentiation (AD) and C code export\n",
    "  - Be prepared to use a development version of CasADi, e.g. a [nightly build](https://github.com/casadi/casadi/releases/tag/nightly-main)\n"
   ]
  },
  {
   "cell_type": "code",
   "execution_count": null,
   "id": "2617d3cb",
   "metadata": {},
   "outputs": [],
   "source": [
    "# Install CasADi nightly build (uncomment if needed)\n",
    "#!pip install casadi-3.7.0.dev+main-cp311-none-manylinux2014_x86_64.whl"
   ]
  },
  {
   "cell_type": "markdown",
   "id": "5f6009ea",
   "metadata": {},
   "source": [
    "You may need to restart the Python kernel."
   ]
  },
  {
   "cell_type": "markdown",
   "id": "b51e19e2",
   "metadata": {},
   "source": [
    "### Race car example with FMU export\n",
    "* To use FMI export in CasADi, first construct a DaeBuilder instance symbolically by declaring model variables and adding equations.\n",
    "* If you know Modelica/FMI, the syntax should look familiar\n",
    "\n",
    "We illustrate using a CasADi implementation of the race car model from above."
   ]
  },
  {
   "cell_type": "code",
   "execution_count": null,
   "id": "87e6415a",
   "metadata": {},
   "outputs": [],
   "source": [
    "# CasADi/DaeBuilder implementation of the Kloeser2020 model\n",
    "with open('kloeser2020.py', 'r') as myfile: print(myfile.read())"
   ]
  },
  {
   "cell_type": "markdown",
   "id": "28b07256",
   "metadata": {},
   "source": [
    "Let's run the above script to generate the FMU."
   ]
  },
  {
   "cell_type": "code",
   "execution_count": null,
   "id": "29aca8cf",
   "metadata": {},
   "outputs": [],
   "source": [
    "run kloeser2020.py"
   ]
  },
  {
   "cell_type": "markdown",
   "id": "f289abb7",
   "metadata": {},
   "source": [
    "### FMU reimport\n",
    "\n",
    " * CasADi generated FMUs are standard FMUs ...\n",
    "   - can be used in any tool that supports FMI for model exchange, version 3.0\n",
    " * .. but *also* include the serialized CasADi expressions\n",
    "   - Permitted by the FMI standard, following the *layered standards* approach\n",
    " * If you import a CasADi generated FMU into CasADi, you get the symbolic expressions back\n",
    "   - Less overhead\n",
    "   - More derivative information, including higher order\n",
    "   - C code export\n",
    "   - Interface with tools that expect CasADi expressions, e.g. ACADOS\n",
    "\n",
    "Let's reimport the FMU produced by the kloeser2020.py script:"
   ]
  },
  {
   "cell_type": "code",
   "execution_count": null,
   "id": "7c487cdc",
   "metadata": {},
   "outputs": [],
   "source": [
    "# Import a CasADi generated FMU \n",
    "dae_ca = ca.DaeBuilder('racecar_ca', 'fmus/kloeser2020_casadi.fmu')\n",
    "dae_ca.disp(True)"
   ]
  },
  {
   "cell_type": "markdown",
   "id": "33f4dec4",
   "metadata": {},
   "source": [
    "For DaeBuilder instances that contain the symbolic representation, the `create` function will return a symbolic CasADi function (`MXFunction`) instead of an `FmuFunction`:"
   ]
  },
  {
   "cell_type": "code",
   "execution_count": null,
   "id": "99d19cfb",
   "metadata": {},
   "outputs": [],
   "source": [
    "f_ca = dae_ca.create('f_ca', ['x', 'u'], ['ode', 'y'])\n",
    "print(f_ca)"
   ]
  },
  {
   "cell_type": "code",
   "execution_count": null,
   "id": "498d0215",
   "metadata": {},
   "outputs": [],
   "source": [
    "# Note how f_ca is a regular CasADi function, so we could for example extract the expressions\n",
    "[x_ex, u_ex] = f_ca.mx_in()\n",
    "[ode_ex, y_ex] = f_ca.call([x_ex, u_ex])\n",
    "\n",
    "print(ode_ex)\n"
   ]
  },
  {
   "cell_type": "markdown",
   "id": "dabd2846",
   "metadata": {},
   "source": [
    "## Event support: Work-in-progress\n",
    "\n",
    "Currently working to extend the CasADi FMI support to handle system with events:\n",
    "  * Main challenge: Extending CasADi sensitivity analysis to handle events\n",
    "\n",
    "Example: Exporting the bouncing ball from CasADi:"
   ]
  },
  {
   "cell_type": "code",
   "execution_count": null,
   "id": "04c7376b",
   "metadata": {},
   "outputs": [],
   "source": [
    "# Start with an empty DaeBuilder instance\n",
    "bb = ca.DaeBuilder('bouncing_ball')\n",
    "\n",
    "# Model variables\n",
    "t = bb.add('t', 'independent')\n",
    "h = bb.add('h', 'output', dict(start = 5, initial = 'exact'))\n",
    "v = bb.add('v', 'output', dict(start = 0, initial = 'exact'))\n",
    "\n",
    "# Dynamic equations\n",
    "bb.eq(bb.der(h), v)\n",
    "bb.eq(bb.der(v), -9.81)\n",
    "bb.disp(True)\n",
    "\n",
    "# Event dynamics: When h < 0, reinitialize v to -0.8*v\n",
    "bb.when(h < 0, [bb.reinit('v', -0.8*bb.pre(v))])\n",
    "bb.disp(True)\n",
    "\n",
    "# Simulate over 7s\n",
    "tgrid = np.linspace(0, 7, 100)\n",
    "sim = ca.integrator('sim', 'cvodes', bb.create(), 0, tgrid,\n",
    "                    dict(transition = bb.transition()))\n",
    "simres = sim(x0 = bb.start(bb.x()))\n",
    "\n",
    "# Visualize the solution\n",
    "plt.figure(1)\n",
    "plt.clf()\n",
    "plt.plot(tgrid, simres['xf'][0, :].T)\n",
    "plt.grid()\n",
    "plt.show()\n"
   ]
  },
  {
   "cell_type": "markdown",
   "id": "98cf8e74",
   "metadata": {},
   "source": [
    "* Can be exported as FMU and simulated with e.g. FMPy - see CasADi examples collection\n",
    "* Can calculate sensitivities, analytically\n",
    "  - Work in progress\n",
    "  - For details, see paper from the [American Modelica Conference, 2024](https://ecp.ep.liu.se/index.php/modelica/article/view/1135)"
   ]
  },
  {
   "cell_type": "markdown",
   "id": "0b19ed90",
   "metadata": {},
   "source": [
    "##"
   ]
  }
 ],
 "metadata": {
  "kernelspec": {
   "display_name": "Python 3 (ipykernel)",
   "language": "python",
   "name": "python3"
  },
  "language_info": {
   "codemirror_mode": {
    "name": "ipython",
    "version": 3
   },
   "file_extension": ".py",
   "mimetype": "text/x-python",
   "name": "python",
   "nbconvert_exporter": "python",
   "pygments_lexer": "ipython3",
   "version": "3.11.0"
  }
 },
 "nbformat": 4,
 "nbformat_minor": 5
}
