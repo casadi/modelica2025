{
 "cells": [
  {
   "attachments": {},
   "cell_type": "markdown",
   "id": "muslim-trinidad",
   "metadata": {},
   "source": [
    "# Introduction to FMU interoperability in CasADi\n",
    "Joel Andersson (joel@fmiopt.com) Joris Gillis (joris@yacoda.com)\n",
    "\n",
    "16th International Modelica Conference,\n",
    "\n",
    "Lucerne, September 8, 2025"
   ]
  },
  {
   "cell_type": "markdown",
   "id": "ff123e6d",
   "metadata": {},
   "source": [
    "## CasADi and Modelica/FMI\n",
    " * Modelica interoperability was the original motivation to start developing CasADi\n",
    "   - vICERP project, anno ~2010\n",
    " * Multiple paths have been explored\n",
    "   - JModelica.org/OpenModelica -> FMUX -> CasADi\n",
    "     * FMUX: FMI 1.0 with model equations added to the FMI XML\n",
    "   - Direct symbolic coupling to CasADi\n",
    "     - JModelica.org\n",
    "     - Modelon Impact / OCT\n",
    "     - Pymoca\n",
    "   - Since ~2020: **Support for standard FMUs in CasADi** (focus here)\n",
    "     - New foreign function interface in CasADi, interacts directly with the FMI C and XML APIs\n",
    "     - Still not mature, but increasingly useful in actual application"
   ]
  },
  {
   "attachments": {},
   "cell_type": "markdown",
   "id": "stopped-alfred",
   "metadata": {},
   "source": [
    "## FMI import in CasADi"
   ]
  },
  {
   "cell_type": "markdown",
   "id": "a3f7c83f",
   "metadata": {},
   "source": [
    "### Obtaining CasADi\n",
    "If you haven't already, make sure have installed CasADi. The following tutorial assumes CasADi 3.7.1 or later.\n",
    "CasADi can be installed using pip:"
   ]
  },
  {
   "cell_type": "code",
   "execution_count": 1,
   "id": "eccf5424",
   "metadata": {},
   "outputs": [],
   "source": [
    "# Install CasADi (uncomment if needed)\n",
    "#!pip install casadi"
   ]
  },
  {
   "cell_type": "markdown",
   "id": "760fa9b5",
   "metadata": {},
   "source": [
    "We also need matplotlib for plotting."
   ]
  },
  {
   "cell_type": "code",
   "execution_count": 2,
   "id": "a7c93a64",
   "metadata": {},
   "outputs": [],
   "source": [
    "# Install matplotlib (uncomment if needed)\n",
    "#!pip install matplotlib"
   ]
  },
  {
   "attachments": {},
   "cell_type": "markdown",
   "id": "automatic-contamination",
   "metadata": {},
   "source": [
    "### A Modelica race car example\n",
    "We will consider a race car described by a so-called \"bicycle model\", as described in\n",
    "\n",
    "*NMPC for Racing Using a Singularity-Free Path-Parametric Model with Obstacle Avoidance* by Kloeser et al (2020): \\\n",
    "https://www.sciencedirect.com/science/article/pii/S2405896320317845\n",
    "https://publications.syscop.de/Kloeser2020.pdf\n",
    "\n",
    "![car_racing_an_oval_track](figures/car_racing_an_oval_track.svg)\n",
    "\n",
    "The model in that paper can be written in Modelica as follows:"
   ]
  },
  {
   "cell_type": "code",
   "execution_count": 3,
   "id": "outer-convenience",
   "metadata": {},
   "outputs": [
    {
     "name": "stdout",
     "output_type": "stream",
     "text": [
      "model Kloeser2020 \"Bicycle model of a model race car, from Kloeser2020 paper\"\n",
      "  import Modelica.Math.*;\n",
      "\n",
      "  // --- Parameters (Table 1 from Kloeser2020) ---\n",
      "  parameter Real m    = 0.043  \"Mass [kg]\";\n",
      "  parameter Real lr   = 0.025  \"Rear length [m]\";\n",
      "  parameter Real lf   = 0.025  \"Front length [m]\";\n",
      "  parameter Real cm1  = 0.28;\n",
      "  parameter Real cm2  = 0.05;\n",
      "  parameter Real cr0  = 0.006;\n",
      "  parameter Real cr2  = 0.011;\n",
      "  parameter Real cr3  = 5.0;\n",
      "\n",
      "  // Constant curvature (circle)\n",
      "  Real kappa \"Road curvature [1/m] (constant)\";\n",
      "\n",
      "  // --- Inputs ---\n",
      "  input Real D_der(min = -20.0, max = 20.0)     \"Rate of electric motor duty cycle\";\n",
      "  input Real delta_der(min = -4.0, max = 4.0) \"Rate of steering angle\";\n",
      "\n",
      "  Real D(min = -1, max = 1, start = 0)         \"Duty cycle of electric motor\";\n",
      "  Real delta(min = -0.8, max = 0.8, start = 0) \"Steering angle\";\n",
      "  \n",
      "  // --- Outputs ---\n",
      "  output Real acc_long \"Longitudinal acceleration\";\n",
      "  output Real acc_lat  \"Lateral acceleration\";\n",
      "  \n",
      "  output Real p_x \"car x coordinate\";\n",
      "  output Real p_y \"car y coordinate\";\n",
      "\n",
      "  output Real c_x \"Center line x coordinate\";\n",
      "  output Real c_y \"Center line y coordinate\";\n",
      "  output Real e_n_x \"Central path normal vector, projection on world x\";\n",
      "  output Real e_n_y \"Central path normal vector, projection on world y\";\n",
      "\n",
      "  // --- States ---\n",
      "  Real s(start=1)     \"Tangential position\";\n",
      "  Real n(start=0)     \"Normal position\";\n",
      "  Real alpha(start=0) \"Heading\";\n",
      "  Real v(start=3)     \"Speed\";\n",
      "\n",
      "  // Auxiliaries\n",
      "  Real beta;\n",
      "  Real Fx_d;\n",
      "  Real ds, dn, dalpha, dv;\n",
      "  \n",
      "  Real s_mod \"s wrapped to [0, 4*pi)\";\n",
      "\n",
      "  // ---- Local functions ----\n",
      "  function logsumexp2\n",
      "    \"Numerically stable LSE for two arguments with temperature alpha\"\n",
      "    input Real a;\n",
      "    input Real b;\n",
      "    input Real alpha=0.1;\n",
      "    output Real y;\n",
      "  protected \n",
      "    Real m;\n",
      "  algorithm \n",
      "    m := if a > b then a else b;\n",
      "    y := m + alpha*Modelica.Math.log(\n",
      "            Modelica.Math.exp((a - m)/alpha) \n",
      "          + Modelica.Math.exp((b - m)/alpha));\n",
      "  end logsumexp2;\n",
      "\n",
      "  function clip1\n",
      "    \"Smooth min(x,1) via -logsumexp([-1,-x]) with temperature alpha\"\n",
      "    input Real x;\n",
      "    input Real alpha=0.1;\n",
      "    output Real y;\n",
      "  algorithm \n",
      "    y := -logsumexp2(-1.0, -x, alpha);\n",
      "  end clip1;\n",
      "  \n",
      "equation\n",
      "  // beta (slip-free approximation, small angle)\n",
      "  beta = lr/(lr + lf) * delta;\n",
      "\n",
      "  // Longitudinal force\n",
      "  Fx_d = (cm1 - cm2*v)*D - cr2*v*v - cr0*tanh(cr3*v);\n",
      "  \n",
      "  kappa = (-clip1(-clip1(-10*sin(s), 0.1), 0.1) + 1.0)/2.0;\n",
      "\n",
      "  // Dynamics\n",
      "  ds     = v*cos(alpha + beta)/(1 - n*kappa);\n",
      "  dn     = v*sin(alpha + beta);\n",
      "  dalpha = (v/lr)*sin(beta) - kappa*ds;\n",
      "  dv     = (Fx_d/m)*cos(beta);\n",
      "\n",
      "  der(s)     = ds;\n",
      "  der(n)     = dn;\n",
      "  der(alpha) = dalpha;\n",
      "  der(v)     = dv;\n",
      "\n",
      "  der(D)     = D_der;\n",
      "  der(delta) = delta_der;\n",
      "\n",
      "  // Outputs\n",
      "  acc_long = Fx_d/m;\n",
      "  acc_lat  = v*v/lr*sin(beta) + Fx_d*sin(beta)/m;\n",
      "\n",
      "  // s modulo 4π\n",
      "  s_mod = s; // Note: OpenModelica FMU derivatives choke on s_mod = mod(s, 4*Modelica.Constants.pi);\n",
      "\n",
      "  // Piecewise definition of gamma and normal\n",
      "  if noEvent(s_mod < Modelica.Constants.pi) then\n",
      "    c_x   = s_mod;\n",
      "    c_y   = 0;\n",
      "    e_n_x = 0;\n",
      "    e_n_y = 1;\n",
      "  elseif noEvent(s_mod < 2*Modelica.Constants.pi) then\n",
      "    c_x   = sin(s - Modelica.Constants.pi) + Modelica.Constants.pi;\n",
      "    c_y   = 1 - cos(s - Modelica.Constants.pi);\n",
      "    e_n_x = -sin(s - Modelica.Constants.pi);\n",
      "    e_n_y =  cos(s - Modelica.Constants.pi);\n",
      "  elseif noEvent(s_mod < 3*Modelica.Constants.pi) then\n",
      "    c_x   = 3*Modelica.Constants.pi - s_mod;\n",
      "    c_y   = 2;\n",
      "    e_n_x = 0;\n",
      "    e_n_y = -1;\n",
      "  else\n",
      "    c_x   = -sin(s - 3*Modelica.Constants.pi);\n",
      "    c_y   =  1 + cos(s - 3*Modelica.Constants.pi);\n",
      "    e_n_x =  sin(s - 3*Modelica.Constants.pi);\n",
      "    e_n_y = -cos(s - 3*Modelica.Constants.pi);\n",
      "  end if;\n",
      "  \n",
      "  p_x = c_x+n*e_n_x;\n",
      "  p_y = c_y+n*e_n_y;\n",
      "end Kloeser2020;\n",
      "\n",
      "\n"
     ]
    }
   ],
   "source": [
    "# Toy example: Van der Pol oscillator\n",
    "mofile = 'Kloeser2020.mo'\n",
    "with open(mofile, 'r') as myfile: print(myfile.read())"
   ]
  },
  {
   "cell_type": "markdown",
   "id": "35f62a45",
   "metadata": {},
   "source": [
    "We assume an oval race track with no banking, consisting of two half circles and two straight segments.\n",
    "\n",
    "The main variables of the problem are sketched below.\n",
    "![car_coordinates](figures/car_coordinates.svg)\n",
    "\n",
    "For details about the model equations, we refer to the above article."
   ]
  },
  {
   "attachments": {},
   "cell_type": "markdown",
   "id": "covered-argentina",
   "metadata": {},
   "source": [
    "### Compiling the model into an FMU\n",
    "\n",
    " * The Functional Mockup Interface (FMI) provides a standardized interface to dynamic systems\n",
    "   - While a Modelica Association Project, it is not limited to Modelica\n",
    "   - Started in 2010, it is now at version 3 and supported by 250+ tools\n",
    " * The standard describe Functional Mockup Units (FMUs) which are ZIP archives, containing a number of files, in particular\n",
    "   - an XML adhering to the FMI XML API, and \n",
    "   - one or more dynamically linked libraries (DLLs), adhering to the FMI C API\n",
    " * An FMU with support for *model exchange* exposes the lower-level DAE formulation we need for dynamic optimization\n",
    "   - Support for *co-simulation* can be used to validate simulation results, but is of limited use for gradient-based optimization\n",
    " * In today's tutorial, all FMUs have been generated by OpenModelica and cross-compiled for Windows, Linux & Mac (Apple or Intel silicon)"
   ]
  },
  {
   "cell_type": "code",
   "execution_count": 4,
   "id": "statistical-pepper",
   "metadata": {},
   "outputs": [
    {
     "name": "stdout",
     "output_type": "stream",
     "text": [
      "Using precompiled FMU: /home/jaeandersson/projects/modelica_2025_workshop/fmus/kloeser2020.fmu\n"
     ]
    }
   ],
   "source": [
    "from pathlib import Path\n",
    "fmu_file = Path.cwd() / 'fmus' / 'kloeser2020.fmu'\n",
    "print(f'Using precompiled FMU: {fmu_file}')"
   ]
  },
  {
   "attachments": {},
   "cell_type": "markdown",
   "id": "ethical-boards",
   "metadata": {},
   "source": [
    "## DaeBuilder instances\n",
    "* CasADi supports the import of model exchange FMI 2 and FMI 3\n",
    "* Unlike other external interfaces in CasADi, FMUs are imported in two steps:\n",
    "  * First, a *mutable* `casadi.DaeBuilder` instance is created\n",
    "  * Then, one or more *immutable* `casadi.FmuFunction` instances are created\n",
    "* To create a `casadi.DaeBuilder` instance from an FMU, pass a desired name for the instance and the path to the FMU\n",
    "  * You can pass either the unzipped FMU directory, or the original FMU. In the latter case, CasADi will unzip it into a temporary directory.\n",
    "  * Only the FMI XML API is used to create the `casadi.DaeBuilder` instance\n",
    "  * Mutable: Can manipulate after creation"
   ]
  },
  {
   "cell_type": "code",
   "execution_count": 5,
   "id": "objective-avenue",
   "metadata": {},
   "outputs": [
    {
     "name": "stdout",
     "output_type": "stream",
     "text": [
      "nx = 6, nz = 0, nq = 0, ny = 8, np = 0, nc = 8, nd = 0, nw = 22, nu = 2\n",
      "Model variables:\n",
      "  c = [cm1, cm2, cr0, cr2, cr3, lf, lr, m]\n",
      "  x = [D, alpha, delta, n, s, v]\n",
      "  w = [der(D), der(alpha), der(delta), der(n), der(s), der(v), Fx_d, acc_lat, acc_long, beta, c_x, c_y, dalpha, dn, ds, dv, e_n_x, e_n_y, kappa, p_x, p_y, s_mod]\n",
      "  u = [D_der, delta_der]\n",
      "List of constants (c):\n",
      "  cm1\n",
      "  cm2\n",
      "  cr0\n",
      "  cr2\n",
      "  cr3\n",
      "  lf\n",
      "  lr\n",
      "  m\n",
      "List of dependent variables (w):\n",
      "  der(D)\n",
      "  der(alpha)\n",
      "  der(delta)\n",
      "  der(n)\n",
      "  der(s)\n",
      "  der(v)\n",
      "  Fx_d\n",
      "  acc_lat\n",
      "  acc_long\n",
      "  beta\n",
      "  c_x\n",
      "  c_y\n",
      "  dalpha\n",
      "  dn\n",
      "  ds\n",
      "  dv\n",
      "  e_n_x\n",
      "  e_n_y\n",
      "  kappa\n",
      "  p_x\n",
      "  p_y\n",
      "  s_mod\n",
      "Time derivatives of differential states (x):\n",
      "  D: der(D)\n",
      "  alpha: der(alpha)\n",
      "  delta: der(delta)\n",
      "  n: der(n)\n",
      "  s: der(s)\n",
      "  v: der(v)\n",
      "Outputs (y):\n",
      "  acc_lat: acc_lat\n",
      "  acc_long: acc_long\n",
      "  c_x: c_x\n",
      "  c_y: c_y\n",
      "  e_n_x: e_n_x\n",
      "  e_n_y: e_n_y\n",
      "  p_x: p_x\n",
      "  p_y: p_y\n"
     ]
    }
   ],
   "source": [
    "# Use FMU to create a CasADi/DaeBuilder instance\n",
    "import casadi as ca\n",
    "dae = ca.DaeBuilder('racecar', str(fmu_file))\n",
    "dae.disp(True)"
   ]
  },
  {
   "cell_type": "markdown",
   "id": "c02b77d6",
   "metadata": {},
   "source": [
    "The classification of FMU model variables in CasADi, e.g. $x$ for the state vector and $u$ for the controls, is described in \\\n",
    " https://web.casadi.org/docs/#document-daebuilder"
   ]
  },
  {
   "cell_type": "markdown",
   "id": "raised-honey",
   "metadata": {},
   "source": [
    "### Accessing meta information\n",
    "Once a DaeBuilder instance has been loaded, we can access (or change) the meta information from the FMU XML API:"
   ]
  },
  {
   "cell_type": "code",
   "execution_count": 6,
   "id": "compact-breathing",
   "metadata": {},
   "outputs": [
    {
     "name": "stdout",
     "output_type": "stream",
     "text": [
      "x:  ['D', 'alpha', 'delta', 'n', 's', 'v']\n",
      "lbx:  [-1.  -inf -0.8 -inf -inf -inf]\n",
      "ubx:  [1.  inf 0.8 inf inf inf]\n",
      "x0:  [0. 0. 0. 0. 1. 3.]\n"
     ]
    }
   ],
   "source": [
    "import numpy as np\n",
    "# State vector\n",
    "x = dae.x()\n",
    "# Upper and lower bounds\n",
    "lbx = np.array(dae.min(x))\n",
    "ubx = np.array(dae.max(x))\n",
    "# Initial state\n",
    "x0 = np.array(dae.start(x))\n",
    "\n",
    "print('x: ', x)\n",
    "print('lbx: ', lbx)\n",
    "print('ubx: ', ubx)\n",
    "print('x0: ', x0)"
   ]
  },
  {
   "cell_type": "code",
   "execution_count": 7,
   "id": "consistent-cambridge",
   "metadata": {},
   "outputs": [
    {
     "name": "stdout",
     "output_type": "stream",
     "text": [
      "u:  ['D_der', 'delta_der']\n",
      "lbu:  [-20.  -4.]\n",
      "ubu:  [20.  4.]\n"
     ]
    }
   ],
   "source": [
    "# Control vector\n",
    "u = dae.u()\n",
    "# Upper and lower bounds\n",
    "lbu = np.array(dae.min(u))\n",
    "ubu = np.array(dae.max(u))\n",
    "\n",
    "print('u: ', u)\n",
    "print('lbu: ', lbu)\n",
    "print('ubu: ', ubu)"
   ]
  },
  {
   "cell_type": "code",
   "execution_count": 8,
   "id": "5cce0940",
   "metadata": {},
   "outputs": [
    {
     "name": "stdout",
     "output_type": "stream",
     "text": [
      "y:  ['acc_lat', 'acc_long', 'c_x', 'c_y', 'e_n_x', 'e_n_y', 'p_x', 'p_y']\n",
      "lby:  [-inf -inf -inf -inf -inf -inf -inf -inf]\n",
      "uby:  [inf inf inf inf inf inf inf inf]\n"
     ]
    }
   ],
   "source": [
    "# Output vector\n",
    "y = dae.y()\n",
    "# Upper and lower bounds\n",
    "lby = np.array(dae.min(y))\n",
    "uby = np.array(dae.max(y))\n",
    "\n",
    "print('y: ', y)\n",
    "print('lby: ', lby)\n",
    "print('uby: ', uby)"
   ]
  },
  {
   "attachments": {},
   "cell_type": "markdown",
   "id": "alien-conclusion",
   "metadata": {},
   "source": [
    "## FmuFunction instances\n",
    "\n",
    "* Interface to the FMU C API\n",
    "* Created from DaeBuilder instances\n",
    "* Standard CasADi Function object\n",
    "  * Immutable after creation: Takes a snapshot of the current DaeBuilder state\n",
    "  * FMU is *instantiated* and *initialized* once, during creation of the FmuFunction, can be called many times\n",
    "  * Can be embedded into symbolic expressions with automatic derivative calculation\n",
    "\n",
    "Example: Create a function object that calculates the ODE right-hand-sides and outputs as a function of the state vector $x$ and the controls $u$:"
   ]
  },
  {
   "cell_type": "code",
   "execution_count": 9,
   "id": "creative-graduation",
   "metadata": {},
   "outputs": [
    {
     "name": "stdout",
     "output_type": "stream",
     "text": [
      "f:(x[6],u[2])->(ode[6],y[8]) FmuFunction\n",
      "der(x) = [1.1, 0, -0.5, 0, 3, -2.44186], y = [0, -2.44186, 1, 0, 0, 1, 1, 0]\n"
     ]
    }
   ],
   "source": [
    "# Evaluate ODE right-hand-side\n",
    "f = dae.create('f', ['x', 'u'], ['ode', 'y'])\n",
    "print(f)\n",
    "# Evaluate the function numerically\n",
    "u_test = np.array([1.1, -.5])\n",
    "ode_test, y_test = f(x0, u_test)\n",
    "print(f'der(x) = {ode_test}, y = {y_test}')"
   ]
  },
  {
   "attachments": {},
   "cell_type": "markdown",
   "id": "descending-wrong",
   "metadata": {},
   "source": [
    "You can decide which inputs and outputs to include when creating FmuFunction instances. \\\n",
    "In general, you should only include an input if you want it to be manipulated by an optimization or simulation routine.\n",
    "If an input is not explicitly included, the value in the DaeBuilder class is used:"
   ]
  },
  {
   "cell_type": "code",
   "execution_count": 10,
   "id": "controversial-lemon",
   "metadata": {},
   "outputs": [
    {
     "name": "stdout",
     "output_type": "stream",
     "text": [
      "f_no_u:(x[6])->(ode[6],y[8]) FmuFunction\n",
      "der(x) = [1.1, 0, 0.5, 0, 3, -2.44186], y = [0, -2.44186, 1, 0, 0, 1, 1, 0]\n"
     ]
    }
   ],
   "source": [
    "# Alternative ODE right-hand-side function with u fixed\n",
    "dae.set('D_der', 1.1)\n",
    "dae.set('delta_der', 0.5)\n",
    "f_no_u = dae.create('f_no_u', ['x'], ['ode', 'y'])\n",
    "print(f_no_u)\n",
    "# Evaluate the function numerically\n",
    "ode_no_u, y_no_u = f_no_u(x0)\n",
    "print(f'der(x) = {ode_no_u}, y = {y_no_u}')"
   ]
  },
  {
   "attachments": {},
   "cell_type": "markdown",
   "id": "acute-thanksgiving",
   "metadata": {},
   "source": [
    "Only real-valued functions inputs are permitted: boolean- or string-valued *must* be set in the DaeBuilder class.\n",
    "\n",
    "Similarly, only real-valued, differentiable variables should be included in the list of function outputs. \\\n",
    "Other variables can be included as \"auxilliary variables\" by specifying the \"aux\" option - the requested values will then be retrieved from the *stats*:"
   ]
  },
  {
   "cell_type": "code",
   "execution_count": 11,
   "id": "prerequisite-rouge",
   "metadata": {},
   "outputs": [
    {
     "name": "stdout",
     "output_type": "stream",
     "text": [
      "f_with_aux:(x[6],u[2])->(ode[6]) FmuFunction\n",
      "der(x) = [1.1, 0, -0.5, 0, 3, -2.44186]\n",
      "{'acc_lat': 0.0, 'acc_long': -2.441860465116253, 'c_x': 1.0, 'c_y': 0.0, 'e_n_x': 0.0, 'e_n_y': 1.0, 'p_x': 1.0, 'p_y': 0.0}\n"
     ]
    }
   ],
   "source": [
    "# Evaluate ODE right-hand-side with y as auxilliary field\n",
    "f_with_aux = dae.create('f_with_aux', ['x', 'u'], ['ode'], dict(aux = dae.y()))\n",
    "print(f_with_aux)\n",
    "# After evaluation, the aux variables are in the stats field of the CasADi function:\n",
    "ode_test_with_aux = f_with_aux(x0, u_test)\n",
    "print(f'der(x) = {ode_test_with_aux}')\n",
    "print(f_with_aux.stats()['aux'])"
   ]
  },
  {
   "cell_type": "markdown",
   "id": "9be59086",
   "metadata": {},
   "source": [
    "## Derivative calculations\n",
    " * Derivative calculation of the model equations are crucial for gradient-based optimization\n",
    " * Ideally, we want both first and second order derivatives\n",
    " * If using FMI models in CasADi, it is important to understand which derivatives are calculated, and how\n",
    "   - Less forgiving than models expressed in CasADi symbolics\n",
    "   - Model may not be smooth enough for optimization\n",
    "   - Exporting tool may not calculate derivatives correctly, or efficiently\n",
    "\n",
    "In the following, we discuss how to obtain the most important types of derivative information from the FMU, using CasADi:\n",
    " * Jacobians\n",
    " * Forward directional derivatives\n",
    " * Adjoint directional derivatives\n",
    " * Hessians"
   ]
  },
  {
   "cell_type": "markdown",
   "id": "danish-ownership",
   "metadata": {},
   "source": [
    "### First order derivatives - Jacobians\n",
    "\n",
    "First order derivative information can be obtained either numerically or analytically. \\\n",
    "In either case, the Jacobian sparsity information in the FMU will be exploited using CasADi's graph coloring techniques:"
   ]
  },
  {
   "cell_type": "code",
   "execution_count": 12,
   "id": "major-plane",
   "metadata": {},
   "outputs": [
    {
     "name": "stdout",
     "output_type": "stream",
     "text": [
      "J:(x[6],u[2])->(ode[6],y[8],jac_ode_x[6x6,16nz],jac_ode_u[6x2,2nz],jac_y_x[8x6,13nz],jac_y_u[8x2,0nz]) FmuFunction\n",
      "ode = [1.1, 0, -0.5, 0, 3, -2.44186], y = [0, -2.44186, 1, 0, 0, 1, 1, 0]\n",
      "A_test:  \n",
      "[[00, 00, 00, 00, 00, 00], \n",
      " [00, 0, 60, 0, 5.09392e-32, 0], \n",
      " [00, 00, 00, 00, 00, 00], \n",
      " [00, 3, 1.5, 00, 00, 0], \n",
      " [00, 0, 0, 0, 0, 1], \n",
      " [3.02326, 00, 0, 00, 00, -1.53488]]\n",
      "B_test:  \n",
      "[[1, 00], \n",
      " [00, 00], \n",
      " [00, 1], \n",
      " [00, 00], \n",
      " [00, 00], \n",
      " [00, 00]]\n",
      "C_test:  \n",
      "[[0, 00, 178.779, 00, 00, 0], \n",
      " [3.02326, 00, 00, 00, 00, -1.53488], \n",
      " [00, 00, 00, 00, 1, 00], \n",
      " [00, 00, 00, 00, 0, 00], \n",
      " [00, 00, 00, 00, 0, 00], \n",
      " [00, 00, 00, 00, 0, 00], \n",
      " [00, 00, 00, 0, 1, 00], \n",
      " [00, 00, 00, 1, 0, 00]]\n",
      "D_test:  \n",
      "[[00, 00], \n",
      " [00, 00], \n",
      " [00, 00], \n",
      " [00, 00], \n",
      " [00, 00], \n",
      " [00, 00], \n",
      " [00, 00], \n",
      " [00, 00]]\n"
     ]
    }
   ],
   "source": [
    "# A function that calculates the ODE, outputs and the four Jacobian blocks:\n",
    "J = dae.create('J', ['x', 'u'], ['ode', 'y', 'jac_ode_x', 'jac_ode_u', 'jac_y_x', 'jac_y_u'])\n",
    "print(J)\n",
    "\n",
    "# Evaluate Jacobian\n",
    "ode_test, y_test, A_test, B_test, C_test, D_test = J(x0, u_test)\n",
    "print(f'ode = {ode_test}, y = {y_test}')\n",
    "print('A_test: ', A_test)\n",
    "print('B_test: ', B_test)\n",
    "print('C_test: ', C_test)\n",
    "print('D_test: ', D_test)"
   ]
  },
  {
   "attachments": {},
   "cell_type": "markdown",
   "id": "centered-picture",
   "metadata": {},
   "source": [
    "* All matrices above (and in CasADi) are *sparse*: 00 above refers to a structural zero.\n",
    "* The Jacobian evaluation can be done in parallel, using either OpenMP or std::thread\n",
    "   * Useful for simulation and steady-state optimization\n",
    "   * For dynamic optimization, usually better to parallelize along the time horizon"
   ]
  },
  {
   "cell_type": "markdown",
   "id": "c3967ae9",
   "metadata": {},
   "source": [
    "### Finite difference calculation of derivatives\n",
    "For most applications of interest, we want to have analytic directional derivative support in the FMU, which can be checked as follows:"
   ]
  },
  {
   "cell_type": "code",
   "execution_count": 13,
   "id": "f5e41d18",
   "metadata": {},
   "outputs": [
    {
     "data": {
      "text/plain": [
       "True"
      ]
     },
     "execution_count": 13,
     "metadata": {},
     "output_type": "execute_result"
    }
   ],
   "source": [
    "dae.provides_directional_derivative()"
   ]
  },
  {
   "cell_type": "markdown",
   "id": "faf3ebae",
   "metadata": {},
   "source": [
    "CasADi's FMU interface also supports finite difference derivative approximations of derivatives\n",
    "* The intended purpose of this facility not to be an alternative to analytic derivatives, but to\n",
    "  - *validate* analytic derivatives for correctness, and to\n",
    "  - calculate *second order* derivative information.\n",
    "* Finite differences derivatives can be calculated using using one of three schemes:\n",
    "  - Forward (or backward) differences, using $f(x)$ and either $f(x+h)$ or $f(x-h)$\n",
    "  - Central differences, using $f(x-h), f(x), f(x+h)$\n",
    "  - A smoothness seeking scheme using 5-point stencils: $f(x-2h), f(x-h), f(x), f(x+h), f(x+2h)$\n",
    "* The finite difference purturbations are designed to be *predictable*:\n",
    "  - All schemes will use a fixed perturbation (by default 1e-6) scaled by the nominal values in the FMU\n",
    "  - User is responsible for ensuring that nominal values are reasonable\n",
    "  - Min and max for FMU model variables are respected by avoiding positive or negative perturbations for finite differences\n",
    "\n",
    "Create an FmuFunction instance that uses finite difference derivatives by:\n",
    "  * Setting `uses_directional_derivatives=False` to only do finite differences, or\n",
    "  * Setting `validate_forward=True` to have the finite difference implementation run in \"shadow mode\"\n",
    "     - Analytic derivatives are compared with a finite difference approximation\n",
    "     - Warnings are emitted if the difference exceeds a threshold\n",
    "  \n"
   ]
  },
  {
   "cell_type": "code",
   "execution_count": 14,
   "id": "wanted-projection",
   "metadata": {},
   "outputs": [
    {
     "name": "stdout",
     "output_type": "stream",
     "text": [
      "J_fd:(x[6],u[2])->(jac_ode_x[6x6,16nz],jac_ode_u[6x2,2nz]) FmuFunction\n",
      "A_fd:  \n",
      "[[00, 00, 00, 00, 00, 00], \n",
      " [00, 0, 60, 0, 0, 0], \n",
      " [00, 00, 00, 00, 00, 00], \n",
      " [00, 3, 1.5, 00, 00, 0], \n",
      " [00, -1.50013e-06, -3.74811e-07, 0, 0, 1], \n",
      " [3.02326, 00, 3.05089e-07, 00, 00, -1.53488]]\n",
      "B_fd:  \n",
      "[[1, 00], \n",
      " [00, 00], \n",
      " [00, 1], \n",
      " [00, 00], \n",
      " [00, 00], \n",
      " [00, 00]]\n"
     ]
    }
   ],
   "source": [
    "# A function that calculates the ODE and two Jacobian blocks:\n",
    "J_fd = dae.create('J_fd', ['x', 'u'], ['jac_ode_x', 'jac_ode_u'], dict(uses_directional_derivatives = False))\n",
    "print(J_fd)\n",
    "\n",
    "# Evaluate Jacobian\n",
    "A_fd, B_fd = J_fd(x0, u_test)\n",
    "print('A_fd: ', A_fd)\n",
    "print('B_fd: ', B_fd)"
   ]
  },
  {
   "cell_type": "markdown",
   "id": "9a179d8b",
   "metadata": {},
   "source": [
    "### First order derivatives - forward and adjoint directional derivatives\n",
    "A *forward* directional derivative is equivalent to a Jacobian-times-vector product:\n",
    "\n",
    "$$\n",
    "\\texttt{fwd\\_y} = \\frac{\\partial y}{\\partial x} \\, \\texttt{fwd\\_x} + \\frac{\\partial y}{\\partial u} \\, \\texttt{fwd\\_u}\n",
    "$$\n",
    "\n",
    "Can be calculated without forming the Jacobian blocks. Computational complexity similar to evaluating the function once.\n",
    "\n",
    "For example, we can calculate the results from perturbing only $D$, as follows:"
   ]
  },
  {
   "cell_type": "code",
   "execution_count": 15,
   "id": "61c713d1",
   "metadata": {},
   "outputs": [
    {
     "name": "stdout",
     "output_type": "stream",
     "text": [
      "f_fwd:(x[6],u[2],fwd_x[6],fwd_u[2])->(fwd_y[8]) FmuFunction\n",
      "fwd_x = [1 0 0 0 0 0], fwd_u = [0 0], fwd_y = [0, 3.02326, 0, 0, 0, 0, 0, 0]\n"
     ]
    }
   ],
   "source": [
    "# Create a function that calculates forward directional derivative\n",
    "f_fwd = dae.create('f_fwd', ['x', 'u', 'fwd_x', 'fwd_u'], ['fwd_y'])\n",
    "print(f_fwd)\n",
    "\n",
    "# Evaluate the forward directional derivative function, perturbing D\n",
    "fwd_x = np.array([1 if n=='D' else 0 for n in x])\n",
    "fwd_u = np.array([0 for n in u])\n",
    "fwd_y = f_fwd(x0, u_test, fwd_x, fwd_u)\n",
    "print(f'fwd_x = {fwd_x}, fwd_u = {fwd_u}, fwd_y = {fwd_y}')"
   ]
  },
  {
   "cell_type": "markdown",
   "id": "3163f950",
   "metadata": {},
   "source": [
    "Similarly, we can calculate *adjoint* directional derivatives, which is equivalent to a transposed Jacobian-times-vector products.\n",
    "\n",
    "For example, we can calculate\n",
    "$$\n",
    "\\texttt{adj\\_x} = \\frac{\\partial y}{\\partial x}^T \\, \\texttt{adj\\_y} \\quad \\text{and} \\quad \\texttt{adj\\_u} = \\frac{\\partial y}{\\partial u}^T \\, \\texttt{adj\\_y}\n",
    "$$\n",
    "using the following syntax:"
   ]
  },
  {
   "cell_type": "code",
   "execution_count": 16,
   "id": "2903e0ee",
   "metadata": {},
   "outputs": [
    {
     "name": "stdout",
     "output_type": "stream",
     "text": [
      "f_adj:(x[6],u[2],adj_y[8])->(adj_x[6],adj_u[2]) FmuFunction\n",
      "adj_y = [0 1 0 0 0 0 0 0], adj_x: [3.02326, 0, 0, 0, 0, -1.53488], adj_u: [0, 0]\n"
     ]
    }
   ],
   "source": [
    "# Create a function that calculates adjoint directional derivative\n",
    "f_adj = dae.create('f_adj', ['x', 'u', 'adj_y'], ['adj_x', 'adj_u'])\n",
    "print(f_adj)\n",
    "\n",
    "# Evaluate the adjoint directional derivative function, seeding acc_long\n",
    "adj_y = np.array([1 if n=='acc_long' else 0 for n in y])\n",
    "adj_x, adj_u = f_adj(x0, u_test, adj_y)\n",
    "print(f'adj_y = {adj_y}, adj_x: {adj_x}, adj_u: {adj_u}')"
   ]
  },
  {
   "cell_type": "markdown",
   "id": "a1cee162",
   "metadata": {},
   "source": [
    "Adjoint directional derivatives:\n",
    "* If supported by the FMU and correctly implemented, similar complexity to evaluating the function, once\n",
    "* Efficient adjoints is only possible with FMI 3\n",
    "  - In other cases, CasADi will fall back to calculating the Jacobian and multiplying from the left, internally"
   ]
  },
  {
   "attachments": {},
   "cell_type": "markdown",
   "id": "subject-myanmar",
   "metadata": {},
   "source": [
    "### Second order derivatives - Hessians\n",
    "For numerical optimal control we often want to calculate Hessians, i.e. Jacobians of adjoints.\n",
    "\n",
    "The interface supports second order derivatives:\n",
    " * Since not included in the FMI standard, calculation uses finite difference perturbations of forward or adjoint directional derivatives\n",
    " * For Hessians, CasADi will use a worst case sparsity pattern is constructed from the \"dependenciesKind\" field in the FMI XML\n",
    "\n",
    "The syntax follows CasADi's internal naming convention for adjoints and Jacobians:"
   ]
  },
  {
   "cell_type": "code",
   "execution_count": 17,
   "id": "grateful-agent",
   "metadata": {},
   "outputs": [
    {
     "name": "stdout",
     "output_type": "stream",
     "text": [
      "H:(x[6],u[2],adj_y[8])->(jac_adj_x_x[6x6,13nz],jac_adj_x_u[6x2,0nz],jac_adj_u_u[2x2,0nz]) FmuFunction\n",
      "H_xx:  \n",
      "[[0, 00, 0, 00, 00, -1.16279], \n",
      " [00, 00, 00, 00, 00, 00], \n",
      " [0, 00, 0, 00, 00, 0], \n",
      " [00, 00, 00, 0, 0, 00], \n",
      " [00, 00, 00, 0, 0, 00], \n",
      " [-1.16279, 00, 0, 00, 00, -0.511628]]\n",
      "H_xu:  \n",
      "[[00, 00], \n",
      " [00, 00], \n",
      " [00, 00], \n",
      " [00, 00], \n",
      " [00, 00], \n",
      " [00, 00]]\n",
      "H_uu:  \n",
      "[[00, 00], \n",
      " [00, 00]]\n"
     ]
    }
   ],
   "source": [
    "# Create a function that calculate the Hessian of a linear combination of y with respect to x and u: \n",
    "H = dae.create('H', ['x', 'u', 'adj_y'], ['jac_adj_x_x', 'jac_adj_x_u', 'jac_adj_u_u'])\n",
    "print(H)\n",
    "# Evaluate Hessian\n",
    "H_xx, H_xu, H_uu = H(x0, u_test, adj_y)\n",
    "print('H_xx: ', H_xx)\n",
    "print('H_xu: ', H_xu)\n",
    "print('H_uu: ', H_uu)"
   ]
  },
  {
   "cell_type": "markdown",
   "id": "2b982ab5",
   "metadata": {},
   "source": [
    "## Simulation and sensitivity analysis\n",
    "\n",
    "To simulate the DAE with CasADi, we can create an *integrator*. For the above problem, an integrator calculates the state trajectory from controls and initial state:\n",
    "$$\n",
    "\\underbrace{\\left[x(t^{\\text{out}}_0), x(t^{\\text{out}}_1), \\ldots, x(t^{\\text{out}}_{N-1})\\right]}_{\\texttt{xf}} = F(\\underbrace{x(t_0)}_{\\texttt{x0}}, u)\n",
    "$$\n",
    "\n",
    "Integrators in CasADi differentiable instances that can be used for sensitivity analysis or be embedded in an optimization problem.\n",
    "\n",
    "For simulating FMUs in CasADi, the variable-step size, variable order integrator CVODES, from the SUNDIALS suite, is usually a good choice. Create an instance of it as follows:"
   ]
  },
  {
   "cell_type": "code",
   "execution_count": 18,
   "id": "04d4e0c1",
   "metadata": {},
   "outputs": [
    {
     "name": "stdout",
     "output_type": "stream",
     "text": [
      "simulator:(x0[6],z0[0],p[0],u[2x101],adj_xf[],adj_zf[],adj_qf[])->(xf[6x101],zf[0x101],qf[0x101],adj_x0[],adj_z0[],adj_p[],adj_u[]) CvodesInterface\n"
     ]
    }
   ],
   "source": [
    "# Select an output time grid\n",
    "import numpy as np\n",
    "tout = np.linspace(0, 1, 101)\n",
    "# Create an integrator instance\n",
    "simulator = ca.integrator('simulator', 'cvodes', dae.create(), 0, tout)\n",
    "print(simulator)"
   ]
  },
  {
   "cell_type": "code",
   "execution_count": 19,
   "id": "4eacddc6",
   "metadata": {},
   "outputs": [
    {
     "name": "stdout",
     "output_type": "stream",
     "text": [
      "F:(x0[6],u[2x101])->(xf[6x101]) MXFunction\n"
     ]
    }
   ],
   "source": [
    "# Remove the unused (zero-dimensional) inputs and outputs by creating a new CasADi function:\n",
    "F = simulator.factory('F', ['x0', 'u'], ['xf'])\n",
    "print(F)"
   ]
  },
  {
   "cell_type": "code",
   "execution_count": 20,
   "id": "9bc0079d",
   "metadata": {},
   "outputs": [
    {
     "name": "stdout",
     "output_type": "stream",
     "text": [
      "H:(x[6],u[2])->(y[8]) FmuFunction\n"
     ]
    }
   ],
   "source": [
    "# The integrator gives us the state trajectory. To calculate outputs, we form a another function:\n",
    "H = dae.create('H', ['x', 'u'], ['y'])\n",
    "print(H)"
   ]
  },
  {
   "cell_type": "code",
   "execution_count": 21,
   "id": "aa3519de",
   "metadata": {},
   "outputs": [
    {
     "data": {
      "text/plain": [
       "{'D_der': array([1.1, 1.1, 1.1, 1.1, 1.1, 1.1, 1.1, 1.1, 1.1, 1.1, 1.1, 1.1, 1.1,\n",
       "        1.1, 1.1, 1.1, 1.1, 1.1, 1.1, 1.1, 1.1, 1.1, 1.1, 1.1, 1.1, 1.1,\n",
       "        1.1, 1.1, 1.1, 1.1, 1.1, 1.1, 1.1, 1.1, 1.1, 1.1, 1.1, 1.1, 1.1,\n",
       "        1.1, 1.1, 1.1, 1.1, 1.1, 1.1, 1.1, 1.1, 1.1, 1.1, 1.1, 1.1, 1.1,\n",
       "        1.1, 1.1, 1.1, 1.1, 1.1, 1.1, 1.1, 1.1, 1.1, 1.1, 1.1, 1.1, 1.1,\n",
       "        1.1, 1.1, 1.1, 1.1, 1.1, 1.1, 1.1, 1.1, 1.1, 1.1, 1.1, 1.1, 1.1,\n",
       "        1.1, 1.1, 1.1, 1.1, 1.1, 1.1, 1.1, 1.1, 1.1, 1.1, 1.1, 1.1, 1.1,\n",
       "        1.1, 1.1, 1.1, 1.1, 1.1, 1.1, 1.1, 1.1, 1.1, 1.1]),\n",
       " 'delta_der': array([-0.5, -0.5, -0.5, -0.5, -0.5, -0.5, -0.5, -0.5, -0.5, -0.5, -0.5,\n",
       "        -0.5, -0.5, -0.5, -0.5, -0.5, -0.5, -0.5, -0.5, -0.5, -0.5, -0.5,\n",
       "        -0.5, -0.5, -0.5, -0.5, -0.5, -0.5, -0.5, -0.5, -0.5, -0.5, -0.5,\n",
       "        -0.5, -0.5, -0.5, -0.5, -0.5, -0.5, -0.5, -0.5, -0.5, -0.5, -0.5,\n",
       "        -0.5, -0.5, -0.5, -0.5, -0.5, -0.5, -0.5, -0.5, -0.5, -0.5, -0.5,\n",
       "        -0.5, -0.5, -0.5, -0.5, -0.5, -0.5, -0.5, -0.5, -0.5, -0.5, -0.5,\n",
       "        -0.5, -0.5, -0.5, -0.5, -0.5, -0.5, -0.5, -0.5, -0.5, -0.5, -0.5,\n",
       "        -0.5, -0.5, -0.5, -0.5, -0.5, -0.5, -0.5, -0.5, -0.5, -0.5, -0.5,\n",
       "        -0.5, -0.5, -0.5, -0.5, -0.5, -0.5, -0.5, -0.5, -0.5, -0.5, -0.5,\n",
       "        -0.5, -0.5]),\n",
       " 'D': array([0.   , 0.011, 0.022, 0.033, 0.044, 0.055, 0.066, 0.077, 0.088,\n",
       "        0.099, 0.11 , 0.121, 0.132, 0.143, 0.154, 0.165, 0.176, 0.187,\n",
       "        0.198, 0.209, 0.22 , 0.231, 0.242, 0.253, 0.264, 0.275, 0.286,\n",
       "        0.297, 0.308, 0.319, 0.33 , 0.341, 0.352, 0.363, 0.374, 0.385,\n",
       "        0.396, 0.407, 0.418, 0.429, 0.44 , 0.451, 0.462, 0.473, 0.484,\n",
       "        0.495, 0.506, 0.517, 0.528, 0.539, 0.55 , 0.561, 0.572, 0.583,\n",
       "        0.594, 0.605, 0.616, 0.627, 0.638, 0.649, 0.66 , 0.671, 0.682,\n",
       "        0.693, 0.704, 0.715, 0.726, 0.737, 0.748, 0.759, 0.77 , 0.781,\n",
       "        0.792, 0.803, 0.814, 0.825, 0.836, 0.847, 0.858, 0.869, 0.88 ,\n",
       "        0.891, 0.902, 0.913, 0.924, 0.935, 0.946, 0.957, 0.968, 0.979,\n",
       "        0.99 , 1.001, 1.012, 1.023, 1.034, 1.045, 1.056, 1.067, 1.078,\n",
       "        1.089, 1.1  ]),\n",
       " 'alpha': array([ 0.00000000e+00, -1.49190602e-03, -5.93626778e-03, -1.32872595e-02,\n",
       "        -2.35012447e-02, -3.65365603e-02, -5.23535448e-02, -7.09144909e-02,\n",
       "        -9.21836217e-02, -1.16127065e-01, -1.42712830e-01, -1.71910778e-01,\n",
       "        -2.03692593e-01, -2.38031752e-01, -2.74903503e-01, -3.14284835e-01,\n",
       "        -3.56154451e-01, -4.00492741e-01, -4.47281757e-01, -4.96505179e-01,\n",
       "        -5.48148295e-01, -6.02197969e-01, -6.58642612e-01, -7.17472159e-01,\n",
       "        -7.78678037e-01, -8.42253135e-01, -9.08191783e-01, -9.76489714e-01,\n",
       "        -1.04714404e+00, -1.12015323e+00, -1.19551707e+00, -1.27323662e+00,\n",
       "        -1.35331423e+00, -1.43575347e+00, -1.52055911e+00, -1.60773709e+00,\n",
       "        -1.69729451e+00, -1.78923955e+00, -1.88358149e+00, -1.98033068e+00,\n",
       "        -2.07949846e+00, -2.18109718e+00, -2.28514013e+00, -2.39164155e+00,\n",
       "        -2.50061656e+00, -2.61208116e+00, -2.72605218e+00, -2.84254725e+00,\n",
       "        -2.96158479e+00, -3.08318395e+00, -3.20736458e+00, -3.33414725e+00,\n",
       "        -3.46355315e+00, -3.59560411e+00, -3.73032252e+00, -3.86773137e+00,\n",
       "        -4.00785416e+00, -4.15071489e+00, -4.29633803e+00, -4.44474851e+00,\n",
       "        -4.59597166e+00, -4.75003319e+00, -4.90695918e+00, -5.06677602e+00,\n",
       "        -5.22951042e+00, -5.39518934e+00, -5.56384002e+00, -5.73548988e+00,\n",
       "        -5.91016657e+00, -6.08789788e+00, -6.26871176e+00, -6.45263626e+00,\n",
       "        -6.63969955e+00, -6.82992984e+00, -7.02335541e+00, -7.22000455e+00,\n",
       "        -7.41990555e+00, -7.62308669e+00, -7.82957620e+00, -8.03940225e+00,\n",
       "        -8.25259294e+00, -8.46917623e+00, -8.68918001e+00, -8.91263200e+00,\n",
       "        -9.13955976e+00, -9.36999070e+00, -9.60395203e+00, -9.84147075e+00,\n",
       "        -1.00825736e+01, -1.03272872e+01, -1.05756378e+01, -1.08276515e+01,\n",
       "        -1.10833539e+01, -1.13427707e+01, -1.16059269e+01, -1.18728473e+01,\n",
       "        -1.21435567e+01, -1.24180791e+01, -1.26964384e+01, -1.29786582e+01,\n",
       "        -1.32647616e+01]),\n",
       " 'delta': array([ 0.   , -0.005, -0.01 , -0.015, -0.02 , -0.025, -0.03 , -0.035,\n",
       "        -0.04 , -0.045, -0.05 , -0.055, -0.06 , -0.065, -0.07 , -0.075,\n",
       "        -0.08 , -0.085, -0.09 , -0.095, -0.1  , -0.105, -0.11 , -0.115,\n",
       "        -0.12 , -0.125, -0.13 , -0.135, -0.14 , -0.145, -0.15 , -0.155,\n",
       "        -0.16 , -0.165, -0.17 , -0.175, -0.18 , -0.185, -0.19 , -0.195,\n",
       "        -0.2  , -0.205, -0.21 , -0.215, -0.22 , -0.225, -0.23 , -0.235,\n",
       "        -0.24 , -0.245, -0.25 , -0.255, -0.26 , -0.265, -0.27 , -0.275,\n",
       "        -0.28 , -0.285, -0.29 , -0.295, -0.3  , -0.305, -0.31 , -0.315,\n",
       "        -0.32 , -0.325, -0.33 , -0.335, -0.34 , -0.345, -0.35 , -0.355,\n",
       "        -0.36 , -0.365, -0.37 , -0.375, -0.38 , -0.385, -0.39 , -0.395,\n",
       "        -0.4  , -0.405, -0.41 , -0.415, -0.42 , -0.425, -0.43 , -0.435,\n",
       "        -0.44 , -0.445, -0.45 , -0.455, -0.46 , -0.465, -0.47 , -0.475,\n",
       "        -0.48 , -0.485, -0.49 , -0.495, -0.5  ]),\n",
       " 'n': array([ 0.00000000e+00, -5.22345070e-05, -2.66056970e-04, -7.25306726e-04,\n",
       "        -1.51035851e-03, -2.69861888e-03, -4.36454206e-03, -6.57972637e-03,\n",
       "        -9.41291799e-03, -1.29299635e-02, -1.71936886e-02, -2.22637282e-02,\n",
       "        -2.81962978e-02, -3.50438889e-02, -4.28548926e-02, -5.16731503e-02,\n",
       "        -6.15374654e-02, -7.24810404e-02, -8.45308372e-02, -9.77068831e-02,\n",
       "        -1.12021546e-01, -1.27478709e-01, -1.44072980e-01, -1.61788841e-01,\n",
       "        -1.80599792e-01, -2.00467488e-01, -2.21340903e-01, -2.43155546e-01,\n",
       "        -2.65832663e-01, -2.89278721e-01, -3.13384553e-01, -3.38025507e-01,\n",
       "        -3.63060424e-01, -3.88332750e-01, -4.13669424e-01, -4.38883050e-01,\n",
       "        -4.63770386e-01, -4.88116472e-01, -5.11694744e-01, -5.34269287e-01,\n",
       "        -5.55597303e-01, -5.75432376e-01, -5.93527412e-01, -6.09639351e-01,\n",
       "        -6.23533781e-01, -6.34989445e-01, -6.43803997e-01, -6.49799877e-01,\n",
       "        -6.52830047e-01, -6.52784186e-01, -6.49595226e-01, -6.43244937e-01,\n",
       "        -6.33769912e-01, -6.21266440e-01, -6.05894281e-01, -5.87880763e-01,\n",
       "        -5.67521450e-01, -5.45179770e-01, -5.21286655e-01, -4.96335381e-01,\n",
       "        -4.70874445e-01, -4.45497383e-01, -4.20831646e-01, -3.97524440e-01,\n",
       "        -3.76225114e-01, -3.57564917e-01, -3.42135106e-01, -3.30463989e-01,\n",
       "        -3.22993233e-01, -3.20054268e-01, -3.21845894e-01, -3.28414462e-01,\n",
       "        -3.39637917e-01, -3.55214988e-01, -3.74660828e-01, -3.97310349e-01,\n",
       "        -4.22330322e-01, -4.48740959e-01, -4.75447308e-01, -5.01280259e-01,\n",
       "        -5.25046354e-01, -5.45584912e-01, -5.61830260e-01, -5.72876104e-01,\n",
       "        -5.78038434e-01, -5.76912787e-01, -5.69421491e-01, -5.55847791e-01,\n",
       "        -5.36844391e-01, -5.13426755e-01, -4.86939068e-01, -4.58992413e-01,\n",
       "        -4.31376633e-01, -4.05950823e-01, -3.84516298e-01, -3.68679624e-01,\n",
       "        -3.59715389e-01, -3.58441712e-01, -3.65118609e-01, -3.79383174e-01,\n",
       "        -4.00231625e-01]),\n",
       " 's': array([1.        , 1.02987902, 1.0595201 , 1.08892813, 1.1181058 ,\n",
       "        1.14705307, 1.17576657, 1.20423912, 1.23245924, 1.26041073,\n",
       "        1.28807231, 1.31541725, 1.34241311, 1.36902146, 1.3951977 ,\n",
       "        1.42089092, 1.4460438 , 1.47059257, 1.49446711, 1.51759106,\n",
       "        1.53988203, 1.56125201, 1.58160773, 1.6008513 , 1.61888087,\n",
       "        1.63559143, 1.650876  , 1.66462673, 1.67673589, 1.68709808,\n",
       "        1.69561049, 1.70217691, 1.70670714, 1.70912213, 1.70935349,\n",
       "        1.70734846, 1.70307015, 1.69650213, 1.68764994, 1.67654404,\n",
       "        1.66324205, 1.64783108, 1.63042995, 1.61119093, 1.5903008 ,\n",
       "        1.56798188, 1.54449207, 1.52012366, 1.49520208, 1.47008381,\n",
       "        1.44515167, 1.42081019, 1.39748104, 1.37559356, 1.35557697,\n",
       "        1.33785194, 1.32281782, 1.31084155, 1.30224624, 1.29729712,\n",
       "        1.29618923, 1.29903473, 1.30585194, 1.3165557 , 1.33094956,\n",
       "        1.34872086, 1.36943936, 1.39256   , 1.41743035, 1.44330312,\n",
       "        1.46935382, 1.494704  , 1.51844964, 1.53969418, 1.5575855 ,\n",
       "        1.57135541, 1.58036025, 1.5841206 , 1.58235791, 1.57502546,\n",
       "        1.56233128, 1.5447503 , 1.52302352, 1.49814219, 1.47131588,\n",
       "        1.44392387, 1.4174507 , 1.39340928, 1.37324592, 1.35824904,\n",
       "        1.34945454, 1.34755466, 1.3528222 , 1.36505836, 1.38356885,\n",
       "        1.40717393, 1.43425915, 1.46286654, 1.49082177, 1.51589571,\n",
       "        1.53598696]),\n",
       " 'v': array([3.        , 2.97593382, 2.95256755, 2.9298938 , 2.90790528,\n",
       "        2.88659476, 2.86595508, 2.84597914, 2.82665988, 2.80799028,\n",
       "        2.78996338, 2.77257223, 2.75580991, 2.73966953, 2.7241442 ,\n",
       "        2.70922706, 2.69491125, 2.6811899 , 2.66805616, 2.65550317,\n",
       "        2.64352405, 2.63211192, 2.62125988, 2.61096104, 2.60120846,\n",
       "        2.59199519, 2.58331427, 2.5751587 , 2.56752147, 2.56039554,\n",
       "        2.55377383, 2.54764927, 2.54201471, 2.53686302, 2.53218702,\n",
       "        2.52797951, 2.52423324, 2.52094098, 2.51809542, 2.51568927,\n",
       "        2.51371519, 2.51216582, 2.5110338 , 2.51031171, 2.50999215,\n",
       "        2.51006769, 2.51053087, 2.51137424, 2.51259033, 2.51417165,\n",
       "        2.51611073, 2.51840008, 2.5210322 , 2.5239996 , 2.52729481,\n",
       "        2.53091035, 2.53483874, 2.53907253, 2.54360429, 2.54842659,\n",
       "        2.55353203, 2.55891323, 2.56456285, 2.57047356, 2.57663809,\n",
       "        2.58304918, 2.58969962, 2.59658226, 2.60368995, 2.61101564,\n",
       "        2.6185523 , 2.62629297, 2.63423073, 2.64235873, 2.65067019,\n",
       "        2.65915838, 2.66781664, 2.67663841, 2.68561716, 2.69474646,\n",
       "        2.70401995, 2.71343136, 2.72297449, 2.73264323, 2.74243156,\n",
       "        2.75233354, 2.76234333, 2.77245518, 2.78266342, 2.79296249,\n",
       "        2.80334692, 2.81381135, 2.8243505 , 2.8349592 , 2.84563237,\n",
       "        2.85636506, 2.8671524 , 2.87798961, 2.88887206, 2.89979517,\n",
       "        2.91075452]),\n",
       " 'acc_lat': array([  0.        ,  -0.87968853,  -1.73201427,  -2.5585114 ,\n",
       "         -3.36065983,  -4.1398874 ,  -4.89757208,  -5.63504393,\n",
       "         -6.35358713,  -7.05444183,  -7.73880596,  -8.40783698,\n",
       "         -9.06265354,  -9.70433703, -10.33393317, -10.95245344,\n",
       "        -11.5608765 , -12.16014953, -12.75118952, -13.33488452,\n",
       "        -13.9120948 , -14.48365401, -15.05037023, -15.61302702,\n",
       "        -16.17238442, -16.72917986, -17.28412908, -17.83792697,\n",
       "        -18.39124839, -18.94474893, -19.49906563, -20.05481769,\n",
       "        -20.61260711, -21.17301931, -21.73662371, -22.30397429,\n",
       "        -22.87561005, -23.45205556, -24.03382134, -24.62140435,\n",
       "        -25.21528828, -25.81594398, -26.42382979, -27.03939177,\n",
       "        -27.66306408, -28.29526915, -28.93641797, -29.58691024,\n",
       "        -30.24713462, -30.91746883, -31.59827986, -32.28992405,\n",
       "        -32.99274724, -33.70708485, -34.43326195, -35.17159336,\n",
       "        -35.92238369, -36.6859274 , -37.4625088 , -38.25240214,\n",
       "        -39.05587158, -39.87317122, -40.7045451 , -41.55022723,\n",
       "        -42.41044156, -43.285402  , -44.17531239, -45.08036653,\n",
       "        -46.00074813, -46.93663086, -47.88817831, -48.85554398,\n",
       "        -49.83887133, -50.83829375, -51.85393459, -52.88590716,\n",
       "        -53.93431477, -54.99925077, -56.08079855, -57.17903159,\n",
       "        -58.29401357, -59.42579834, -60.57443005, -61.7399432 ,\n",
       "        -62.92236272, -64.12170409, -65.33797339, -66.57116746,\n",
       "        -67.821274  , -69.08827167, -70.37213029, -71.67281089,\n",
       "        -72.99026596, -74.32443953, -75.67526741, -77.04267729,\n",
       "        -78.42658898, -79.82691458, -81.24355866, -82.67641851,\n",
       "        -84.1253843 ]),\n",
       " 'acc_long': array([-2.44186047, -2.3715062 , -2.30190769, -2.23305533, -2.16494037,\n",
       "        -2.09755484, -2.03089152, -1.96494394, -1.89970628, -1.83517338,\n",
       "        -1.77134072, -1.70820433, -1.64576084, -1.58400738, -1.52294159,\n",
       "        -1.46256156, -1.40286586, -1.34385343, -1.28552364, -1.22787618,\n",
       "        -1.17091111, -1.11462877, -1.05902981, -1.00411512, -0.94988585,\n",
       "        -0.89634334, -0.84348913, -0.79132494, -0.73985261, -0.68907412,\n",
       "        -0.63899156, -0.58960708, -0.54092292, -0.49294135, -0.44566464,\n",
       "        -0.39909511, -0.35323503, -0.30808666, -0.26365219, -0.21993377,\n",
       "        -0.17693346, -0.1346532 , -0.09309485, -0.05226013, -0.01215062,\n",
       "         0.02723225,  0.06588724,  0.10381324,  0.14100939,  0.17747497,\n",
       "         0.21320952,  0.24821278,  0.28248471,  0.31602553,  0.34883568,\n",
       "         0.38091588,  0.41226709,  0.44289054,  0.47278773,  0.50196043,\n",
       "         0.53041068,  0.55814082,  0.58515345,  0.61145147,  0.63703807,\n",
       "         0.6619167 ,  0.68609112,  0.70956536,  0.73234374,  0.75443086,\n",
       "         0.77583159,  0.7965511 ,  0.8165948 ,  0.83596839,  0.85467783,\n",
       "         0.87272933,  0.89012935,  0.90688462,  0.92300207,  0.93848891,\n",
       "         0.95335255,  0.9676006 ,  0.98124093,  0.99428157,  1.00673076,\n",
       "         1.01859692,  1.02988867,  1.04061476,  1.05078413,  1.06040586,\n",
       "         1.06948915,  1.07804336,  1.08607794,  1.09360249,  1.10062667,\n",
       "         1.10716024,  1.11321307,  1.11879506,  1.1239162 ,  1.12858651,\n",
       "         1.13281608]),\n",
       " 'c_x': array([1.        , 1.02987902, 1.0595201 , 1.08892813, 1.1181058 ,\n",
       "        1.14705307, 1.17576657, 1.20423912, 1.23245924, 1.26041073,\n",
       "        1.28807231, 1.31541725, 1.34241311, 1.36902146, 1.3951977 ,\n",
       "        1.42089092, 1.4460438 , 1.47059257, 1.49446711, 1.51759106,\n",
       "        1.53988203, 1.56125201, 1.58160773, 1.6008513 , 1.61888087,\n",
       "        1.63559143, 1.650876  , 1.66462673, 1.67673589, 1.68709808,\n",
       "        1.69561049, 1.70217691, 1.70670714, 1.70912213, 1.70935349,\n",
       "        1.70734846, 1.70307015, 1.69650213, 1.68764994, 1.67654404,\n",
       "        1.66324205, 1.64783108, 1.63042995, 1.61119093, 1.5903008 ,\n",
       "        1.56798188, 1.54449207, 1.52012366, 1.49520208, 1.47008381,\n",
       "        1.44515167, 1.42081019, 1.39748104, 1.37559356, 1.35557697,\n",
       "        1.33785194, 1.32281782, 1.31084155, 1.30224624, 1.29729712,\n",
       "        1.29618923, 1.29903473, 1.30585194, 1.3165557 , 1.33094956,\n",
       "        1.34872086, 1.36943936, 1.39256   , 1.41743035, 1.44330312,\n",
       "        1.46935382, 1.494704  , 1.51844964, 1.53969418, 1.5575855 ,\n",
       "        1.57135541, 1.58036025, 1.5841206 , 1.58235791, 1.57502546,\n",
       "        1.56233128, 1.5447503 , 1.52302352, 1.49814219, 1.47131588,\n",
       "        1.44392387, 1.4174507 , 1.39340928, 1.37324592, 1.35824904,\n",
       "        1.34945454, 1.34755466, 1.3528222 , 1.36505836, 1.38356885,\n",
       "        1.40717393, 1.43425915, 1.46286654, 1.49082177, 1.51589571,\n",
       "        1.53598696]),\n",
       " 'c_y': array([0., 0., 0., 0., 0., 0., 0., 0., 0., 0., 0., 0., 0., 0., 0., 0., 0.,\n",
       "        0., 0., 0., 0., 0., 0., 0., 0., 0., 0., 0., 0., 0., 0., 0., 0., 0.,\n",
       "        0., 0., 0., 0., 0., 0., 0., 0., 0., 0., 0., 0., 0., 0., 0., 0., 0.,\n",
       "        0., 0., 0., 0., 0., 0., 0., 0., 0., 0., 0., 0., 0., 0., 0., 0., 0.,\n",
       "        0., 0., 0., 0., 0., 0., 0., 0., 0., 0., 0., 0., 0., 0., 0., 0., 0.,\n",
       "        0., 0., 0., 0., 0., 0., 0., 0., 0., 0., 0., 0., 0., 0., 0., 0.]),\n",
       " 'e_n_x': array([0., 0., 0., 0., 0., 0., 0., 0., 0., 0., 0., 0., 0., 0., 0., 0., 0.,\n",
       "        0., 0., 0., 0., 0., 0., 0., 0., 0., 0., 0., 0., 0., 0., 0., 0., 0.,\n",
       "        0., 0., 0., 0., 0., 0., 0., 0., 0., 0., 0., 0., 0., 0., 0., 0., 0.,\n",
       "        0., 0., 0., 0., 0., 0., 0., 0., 0., 0., 0., 0., 0., 0., 0., 0., 0.,\n",
       "        0., 0., 0., 0., 0., 0., 0., 0., 0., 0., 0., 0., 0., 0., 0., 0., 0.,\n",
       "        0., 0., 0., 0., 0., 0., 0., 0., 0., 0., 0., 0., 0., 0., 0., 0.]),\n",
       " 'e_n_y': array([1., 1., 1., 1., 1., 1., 1., 1., 1., 1., 1., 1., 1., 1., 1., 1., 1.,\n",
       "        1., 1., 1., 1., 1., 1., 1., 1., 1., 1., 1., 1., 1., 1., 1., 1., 1.,\n",
       "        1., 1., 1., 1., 1., 1., 1., 1., 1., 1., 1., 1., 1., 1., 1., 1., 1.,\n",
       "        1., 1., 1., 1., 1., 1., 1., 1., 1., 1., 1., 1., 1., 1., 1., 1., 1.,\n",
       "        1., 1., 1., 1., 1., 1., 1., 1., 1., 1., 1., 1., 1., 1., 1., 1., 1.,\n",
       "        1., 1., 1., 1., 1., 1., 1., 1., 1., 1., 1., 1., 1., 1., 1., 1.]),\n",
       " 'p_x': array([1.        , 1.02987902, 1.0595201 , 1.08892813, 1.1181058 ,\n",
       "        1.14705307, 1.17576657, 1.20423912, 1.23245924, 1.26041073,\n",
       "        1.28807231, 1.31541725, 1.34241311, 1.36902146, 1.3951977 ,\n",
       "        1.42089092, 1.4460438 , 1.47059257, 1.49446711, 1.51759106,\n",
       "        1.53988203, 1.56125201, 1.58160773, 1.6008513 , 1.61888087,\n",
       "        1.63559143, 1.650876  , 1.66462673, 1.67673589, 1.68709808,\n",
       "        1.69561049, 1.70217691, 1.70670714, 1.70912213, 1.70935349,\n",
       "        1.70734846, 1.70307015, 1.69650213, 1.68764994, 1.67654404,\n",
       "        1.66324205, 1.64783108, 1.63042995, 1.61119093, 1.5903008 ,\n",
       "        1.56798188, 1.54449207, 1.52012366, 1.49520208, 1.47008381,\n",
       "        1.44515167, 1.42081019, 1.39748104, 1.37559356, 1.35557697,\n",
       "        1.33785194, 1.32281782, 1.31084155, 1.30224624, 1.29729712,\n",
       "        1.29618923, 1.29903473, 1.30585194, 1.3165557 , 1.33094956,\n",
       "        1.34872086, 1.36943936, 1.39256   , 1.41743035, 1.44330312,\n",
       "        1.46935382, 1.494704  , 1.51844964, 1.53969418, 1.5575855 ,\n",
       "        1.57135541, 1.58036025, 1.5841206 , 1.58235791, 1.57502546,\n",
       "        1.56233128, 1.5447503 , 1.52302352, 1.49814219, 1.47131588,\n",
       "        1.44392387, 1.4174507 , 1.39340928, 1.37324592, 1.35824904,\n",
       "        1.34945454, 1.34755466, 1.3528222 , 1.36505836, 1.38356885,\n",
       "        1.40717393, 1.43425915, 1.46286654, 1.49082177, 1.51589571,\n",
       "        1.53598696]),\n",
       " 'p_y': array([ 0.00000000e+00, -5.22345070e-05, -2.66056970e-04, -7.25306726e-04,\n",
       "        -1.51035851e-03, -2.69861888e-03, -4.36454206e-03, -6.57972637e-03,\n",
       "        -9.41291799e-03, -1.29299635e-02, -1.71936886e-02, -2.22637282e-02,\n",
       "        -2.81962978e-02, -3.50438889e-02, -4.28548926e-02, -5.16731503e-02,\n",
       "        -6.15374654e-02, -7.24810404e-02, -8.45308372e-02, -9.77068831e-02,\n",
       "        -1.12021546e-01, -1.27478709e-01, -1.44072980e-01, -1.61788841e-01,\n",
       "        -1.80599792e-01, -2.00467488e-01, -2.21340903e-01, -2.43155546e-01,\n",
       "        -2.65832663e-01, -2.89278721e-01, -3.13384553e-01, -3.38025507e-01,\n",
       "        -3.63060424e-01, -3.88332750e-01, -4.13669424e-01, -4.38883050e-01,\n",
       "        -4.63770386e-01, -4.88116472e-01, -5.11694744e-01, -5.34269287e-01,\n",
       "        -5.55597303e-01, -5.75432376e-01, -5.93527412e-01, -6.09639351e-01,\n",
       "        -6.23533781e-01, -6.34989445e-01, -6.43803997e-01, -6.49799877e-01,\n",
       "        -6.52830047e-01, -6.52784186e-01, -6.49595226e-01, -6.43244937e-01,\n",
       "        -6.33769912e-01, -6.21266440e-01, -6.05894281e-01, -5.87880763e-01,\n",
       "        -5.67521450e-01, -5.45179770e-01, -5.21286655e-01, -4.96335381e-01,\n",
       "        -4.70874445e-01, -4.45497383e-01, -4.20831646e-01, -3.97524440e-01,\n",
       "        -3.76225114e-01, -3.57564917e-01, -3.42135106e-01, -3.30463989e-01,\n",
       "        -3.22993233e-01, -3.20054268e-01, -3.21845894e-01, -3.28414462e-01,\n",
       "        -3.39637917e-01, -3.55214988e-01, -3.74660828e-01, -3.97310349e-01,\n",
       "        -4.22330322e-01, -4.48740959e-01, -4.75447308e-01, -5.01280259e-01,\n",
       "        -5.25046354e-01, -5.45584912e-01, -5.61830260e-01, -5.72876104e-01,\n",
       "        -5.78038434e-01, -5.76912787e-01, -5.69421491e-01, -5.55847791e-01,\n",
       "        -5.36844391e-01, -5.13426755e-01, -4.86939068e-01, -4.58992413e-01,\n",
       "        -4.31376633e-01, -4.05950823e-01, -3.84516298e-01, -3.68679624e-01,\n",
       "        -3.59715389e-01, -3.58441712e-01, -3.65118609e-01, -3.79383174e-01,\n",
       "        -4.00231625e-01])}"
      ]
     },
     "execution_count": 21,
     "metadata": {},
     "output_type": "execute_result"
    }
   ],
   "source": [
    "# Simulate with constant controls\n",
    "u_sim = ca.repmat(u_test, 1, len(tout))\n",
    "\n",
    "# Simulate the system\n",
    "xf_sim = F(x0, u_sim)\n",
    "\n",
    "# Also calculate output trajectory\n",
    "y_sim = H(xf_sim, u_sim)\n",
    "\n",
    "# Collect trajectories in a dictionary\n",
    "traj_sim = dict()\n",
    "for k, n in enumerate(u): traj_sim[n] = u_sim[k, :].full().flatten()\n",
    "for k, n in enumerate(x): traj_sim[n] = xf_sim[k, :].full().flatten()\n",
    "for k, n in enumerate(y): traj_sim[n] = y_sim[k, :].full().flatten()\n",
    "traj_sim"
   ]
  },
  {
   "cell_type": "code",
   "execution_count": 22,
   "id": "b9c084fb",
   "metadata": {},
   "outputs": [
    {
     "data": {
      "image/png": "[encoded data removed]",
      "text/plain": [
       "<Figure size 1500x1800 with 16 Axes>"
      ]
     },
     "metadata": {},
     "output_type": "display_data"
    }
   ],
   "source": [
    "# Simple plot function to visualize results\n",
    "import matplotlib.pyplot as plt\n",
    "def plot_traj(traj, v = None, columns = 3):\n",
    "  # What to plot? By default everything\n",
    "  if v is None: v = x + y + u\n",
    "  # Number of figures\n",
    "  nfig = len(v)\n",
    "  # Plot with multiple columns\n",
    "  ncol = min(columns, nfig)\n",
    "  nrow = nfig // ncol + (nfig % ncol > 0)\n",
    "  fig = plt.figure(figsize=(15, max(10, 3*nrow)), tight_layout=True)\n",
    "  for k, n in enumerate(v):\n",
    "    ax = fig.add_subplot(nrow, ncol, k + 1)\n",
    "    if n in x:\n",
    "      # Plotting a state\n",
    "      vtype = 'x'\n",
    "      k = x.index(n)\n",
    "      ax.plot(tout, traj[n])\n",
    "    elif n in u:\n",
    "      # Plotting a control\n",
    "      vtype = 'u'\n",
    "      k = u.index(n)\n",
    "      ax.step(tout, traj[n])\n",
    "    elif n in y:\n",
    "      # Plotting an output\n",
    "      vtype = 'y'\n",
    "      k = y.index(n)\n",
    "      ax.plot(tout, traj[n])\n",
    "    else:\n",
    "      raise ValueError(f'Variable {n} not found in x, y or u')\n",
    "    ax.set_title(f'{vtype}[{k}]: {n}')\n",
    "    ax.grid(True)\n",
    "\n",
    "# Plot initial simulation\n",
    "plot_traj(traj_sim)"
   ]
  },
  {
   "cell_type": "markdown",
   "id": "754d498b",
   "metadata": {},
   "source": [
    "## Forward sensitivity analysis \n",
    "Recall:\n",
    "$$\n",
    "\\underbrace{\\left[x(t^{\\text{out}}_0), x(t^{\\text{out}}_1), \\ldots, x(t^{\\text{out}}_{N-1})\\right]}_{\\texttt{xf}} = F(\\underbrace{x(t_0)}_{\\texttt{x0}}, u)\n",
    "$$\n",
    "\n",
    "With forward sensitivity analysis, we can calculate Jacobian-times-vector products for the simulation problem. For the above problem, this means calculating:\n",
    "$$\n",
    "\\texttt{fwd\\_xf} = \\frac{\\partial F(x(t_0), u)}{\\partial x(t_0)} \\, \\texttt{fwd\\_x0} +\n",
    "\\frac{\\partial F(x(t_0), u)}{\\partial u} \\, \\texttt{fwd\\_u}\n",
    "$$\n",
    "\n",
    "In CasADi, we can use the syntax *\\<CasADi function\\>.forward($n$)* to generate a new function that calculates $n$ forward directional derivatives. If you embed an integrator into an optimization formulation, such calls are done internally. For example, if we wanted to find the derivatives of *all* outputs with respect to the initial velocity, this could be calculated as follows:\n"
   ]
  },
  {
   "cell_type": "code",
   "execution_count": 23,
   "id": "df9019f5",
   "metadata": {},
   "outputs": [
    {
     "name": "stdout",
     "output_type": "stream",
     "text": [
      "fwd1_F:(x0[6],u[2x101],out_xf[6x101,0nz],fwd_x0[6],fwd_u[2x101])->(fwd_xf[6x101]) MXFunction\n",
      "fwd_x0:  [0 0 0 0 0 1]\n",
      "fwd_u:  [[0. 0. 0. 0. 0. 0. 0. 0. 0. 0. 0. 0. 0. 0. 0. 0. 0. 0. 0. 0. 0. 0. 0. 0.\n",
      "  0. 0. 0. 0. 0. 0. 0. 0. 0. 0. 0. 0. 0. 0. 0. 0. 0. 0. 0. 0. 0. 0. 0. 0.\n",
      "  0. 0. 0. 0. 0. 0. 0. 0. 0. 0. 0. 0. 0. 0. 0. 0. 0. 0. 0. 0. 0. 0. 0. 0.\n",
      "  0. 0. 0. 0. 0. 0. 0. 0. 0. 0. 0. 0. 0. 0. 0. 0. 0. 0. 0. 0. 0. 0. 0. 0.\n",
      "  0. 0. 0. 0. 0.]\n",
      " [0. 0. 0. 0. 0. 0. 0. 0. 0. 0. 0. 0. 0. 0. 0. 0. 0. 0. 0. 0. 0. 0. 0. 0.\n",
      "  0. 0. 0. 0. 0. 0. 0. 0. 0. 0. 0. 0. 0. 0. 0. 0. 0. 0. 0. 0. 0. 0. 0. 0.\n",
      "  0. 0. 0. 0. 0. 0. 0. 0. 0. 0. 0. 0. 0. 0. 0. 0. 0. 0. 0. 0. 0. 0. 0. 0.\n",
      "  0. 0. 0. 0. 0. 0. 0. 0. 0. 0. 0. 0. 0. 0. 0. 0. 0. 0. 0. 0. 0. 0. 0. 0.\n",
      "  0. 0. 0. 0. 0.]]\n",
      "fwd_xf:  \n",
      "[[0, -7.83543e-27, -1.22159e-26, -1.74467e-26, -2.36302e-26, -1.94258e-26, -1.52727e-26, -1.34782e-26, -1.09359e-26, -9.27636e-27, -1.44608e-26, -1.2577e-26, 1.91045e-26, 7.30344e-26, 8.41613e-26, 7.42442e-26, 7.23153e-26, 7.72224e-26, 8.18318e-26, 8.1447e-26, 7.92325e-26, 7.76313e-26, 7.88656e-26, 8.02954e-26, 8.05653e-26, 8.04245e-26, 8.08736e-26, 8.1482e-26, 8.17435e-26, 8.1947e-26, 8.19794e-26, 8.17704e-26, 8.15245e-26, 8.09886e-26, 8.03451e-26, 7.98215e-26, 7.92911e-26, 7.87286e-26, 7.84e-26, 7.82821e-26, 7.83734e-26, 7.85741e-26, 7.86927e-26, 7.84317e-26, 7.81671e-26, 7.82025e-26, 7.82305e-26, 7.82136e-26, 7.82501e-26, 7.83099e-26, 7.83902e-26, 7.8502e-26, 7.85331e-26, 7.85618e-26, 7.86032e-26, 7.85947e-26, 7.85962e-26, 7.8657e-26, 7.86808e-26, 7.86971e-26, 7.87855e-26, 7.87752e-26, 7.87091e-26, 7.87454e-26, 7.87726e-26, 7.88172e-26, 7.88625e-26, 7.89341e-26, 7.89293e-26, 7.89397e-26, 7.89746e-26, 7.90709e-26, 7.91866e-26, 7.92278e-26, 7.92681e-26, 7.93926e-26, 7.95096e-26, 7.96491e-26, 7.97232e-26, 7.97137e-26, 7.97064e-26, 7.97032e-26, 7.96712e-26, 7.96504e-26, 7.96451e-26, 7.96469e-26, 7.96267e-26, 7.96009e-26, 7.95857e-26, 7.95779e-26, 7.95791e-26, 7.95813e-26, 7.95903e-26, 7.95994e-26, 7.96038e-26, 7.9609e-26, 7.96083e-26, 7.96102e-26, 7.96106e-26, 7.9611e-26, 7.96115e-26], \n",
      " [0, -0.000494874, -0.0019595, -0.00436413, -0.0076797, -0.0118778, -0.0169305, -0.0228107, -0.0294915, -0.0369467, -0.0451508, -0.0540785, -0.0637051, -0.0740064, -0.0849586, -0.0965383, -0.108723, -0.121489, -0.134816, -0.14868, -0.163062, -0.17794, -0.193293, -0.209102, -0.225346, -0.242005, -0.259061, -0.276495, -0.294289, -0.312423, -0.33088, -0.349643, -0.368694, -0.388017, -0.407594, -0.42741, -0.447448, -0.467693, -0.488128, -0.50874, -0.529513, -0.550432, -0.571484, -0.592654, -0.613929, -0.635295, -0.656739, -0.678248, -0.69981, -0.721413, -0.743044, -0.764692, -0.786346, -0.807993, -0.829625, -0.851229, -0.872796, -0.894316, -0.915778, -0.937175, -0.958496, -0.979732, -1.00088, -1.02192, -1.04285, -1.06367, -1.08436, -1.10492, -1.12534, -1.14562, -1.16574, -1.18571, -1.20551, -1.22515, -1.24461, -1.26389, -1.28298, -1.30189, -1.3206, -1.33912, -1.35743, -1.37554, -1.39344, -1.41113, -1.42861, -1.44586, -1.4629, -1.47972, -1.49631, -1.51268, -1.52882, -1.54473, -1.56041, -1.57586, -1.59108, -1.60606, -1.62081, -1.63533, -1.64962, -1.66367, -1.67748], \n",
      " [0, 2.66046e-24, 2.00181e-24, -1.2894e-24, -2.49123e-24, -2.3574e-24, -2.43558e-24, -2.57405e-24, -2.82617e-24, -2.83298e-24, -2.87652e-24, -3.09389e-24, -4.43509e-24, -5.96072e-24, -6.78139e-24, -6.76031e-24, -6.58209e-24, -6.54707e-24, -6.56224e-24, -6.5555e-24, -6.44701e-24, -6.3591e-24, -6.32155e-24, -6.30735e-24, -6.2446e-24, -6.18055e-24, -6.15707e-24, -6.15606e-24, -6.13431e-24, -6.10014e-24, -6.07933e-24, -6.09395e-24, -6.13882e-24, -6.18276e-24, -6.21743e-24, -6.25679e-24, -6.30152e-24, -6.33677e-24, -6.34423e-24, -6.33773e-24, -6.33581e-24, -6.33886e-24, -6.34073e-24, -6.3473e-24, -6.35455e-24, -6.35343e-24, -6.3493e-24, -6.34732e-24, -6.3459e-24, -6.34464e-24, -6.34221e-24, -6.34097e-24, -6.33972e-24, -6.33632e-24, -6.33517e-24, -6.33637e-24, -6.33218e-24, -6.32404e-24, -6.32392e-24, -6.32563e-24, -6.32626e-24, -6.32956e-24, -6.33007e-24, -6.32767e-24, -6.32769e-24, -6.32887e-24, -6.3288e-24, -6.33011e-24, -6.33004e-24, -6.33006e-24, -6.33053e-24, -6.33115e-24, -6.3309e-24, -6.33358e-24, -6.33784e-24, -6.33826e-24, -6.33864e-24, -6.34346e-24, -6.34753e-24, -6.34817e-24, -6.34849e-24, -6.34925e-24, -6.35098e-24, -6.35175e-24, -6.35324e-24, -6.35375e-24, -6.35487e-24, -6.35679e-24, -6.35795e-24, -6.35838e-24, -6.35835e-24, -6.35834e-24, -6.35842e-24, -6.35873e-24, -6.3587e-24, -6.3586e-24, -6.35858e-24, -6.35835e-24, -6.35827e-24, -6.35812e-24, -6.35794e-24], \n",
      " [0, -2.23039e-05, -0.000126704, -0.000367535, -0.000795809, -0.00145934, -0.00240295, -0.00366838, -0.00529423, -0.00731583, -0.00976505, -0.01267, -0.0160548, -0.0199392, -0.024338, -0.0292606, -0.0347107, -0.0406854, -0.047175, -0.0541621, -0.0616209, -0.0695171, -0.0778069, -0.0864368, -0.0953432, -0.104452, -0.113678, -0.122925, -0.132089, -0.141053, -0.149691, -0.15787, -0.16545, -0.172283, -0.17822, -0.18311, -0.186803, -0.189155, -0.190029, -0.189299, -0.186859, -0.182618, -0.176516, -0.168518, -0.158626, -0.14688, -0.133363, -0.118205, -0.101583, -0.0837269, -0.0649176, -0.0454865, -0.0258128, -0.00631971, 0.0125325, 0.0302551, 0.0463417, 0.0602814, 0.0715746, 0.0797497, 0.0843827, 0.0851166, 0.0816824, 0.0739193, 0.0617938, 0.0454161, 0.025054, 0.00114118, -0.0257196, -0.0547614, -0.085065, -0.115579, -0.145153, -0.172574, -0.196617, -0.2161, -0.229949, -0.237258, -0.237359, -0.229881, -0.214802, -0.192492, -0.163732, -0.129716, -0.0920275, -0.05258, -0.0135396, 0.0227881, 0.0540929, 0.0782135, 0.0933001, 0.0979755, 0.0914828, 0.073802, 0.0457257, 0.00887813, -0.0343338, -0.0808384, -0.127092, -0.169334, -0.203897], \n",
      " [0, 0.00992361, 0.0196955, 0.0293162, 0.0387846, 0.0480969, 0.0572465, 0.0662235, 0.0750142, 0.0836012, 0.0919627, 0.100073, 0.1079, 0.115411, 0.122566, 0.12932, 0.135628, 0.141436, 0.146692, 0.151337, 0.155313, 0.15856, 0.161016, 0.162623, 0.163321, 0.163057, 0.161781, 0.15945, 0.156027, 0.151489, 0.14582, 0.139021, 0.131108, 0.122113, 0.112089, 0.101108, 0.0892666, 0.0766827, 0.0634994, 0.0498844, 0.0360293, 0.0221496, 0.00848231, -0.00471575, -0.0171715, -0.0285997, -0.0387083, -0.0472042, -0.0538005, -0.0582245, -0.0602268, -0.0595903, -0.0561409, -0.049757, -0.0403803, -0.028025, -0.0127867, 0.0051503, 0.0255077, 0.0479102, 0.0718858, 0.0968697, 0.122212, 0.14719, 0.171025, 0.192906, 0.212013, 0.227551, 0.238781, 0.245062, 0.245884, 0.240906, 0.229994, 0.213251, 0.191034, 0.163973, 0.132972, 0.0991887, 0.0640135, 0.0290176, -0.00410906, -0.0336367, -0.0578872, -0.0753374, -0.0847245, -0.0851508, -0.0761776, -0.0579021, -0.0310066, 0.00322548, 0.0429355, 0.085762, 0.128957, 0.169552, 0.204556, 0.231189, 0.247119, 0.250698, 0.241159, 0.218771, 0.184909], \n",
      " [1, 0.984766, 0.969758, 0.95497, 0.940394, 0.926025, 0.911858, 0.897886, 0.884104, 0.870509, 0.857093, 0.843854, 0.830787, 0.817887, 0.80515, 0.792574, 0.780154, 0.767886, 0.755768, 0.743796, 0.731968, 0.72028, 0.70873, 0.697316, 0.686034, 0.674883, 0.663861, 0.652965, 0.642194, 0.631545, 0.621018, 0.61061, 0.600319, 0.590145, 0.580087, 0.570142, 0.560309, 0.550588, 0.540978, 0.531476, 0.522084, 0.512799, 0.503621, 0.494548, 0.485582, 0.47672, 0.467961, 0.459307, 0.450755, 0.442306, 0.433959, 0.425713, 0.417568, 0.409524, 0.40158, 0.393736, 0.385992, 0.378347, 0.370801, 0.363353, 0.356004, 0.348753, 0.341599, 0.334543, 0.327584, 0.320721, 0.313955, 0.307286, 0.300712, 0.294234, 0.287851, 0.281563, 0.275369, 0.26927, 0.263265, 0.257353, 0.251534, 0.245807, 0.240173, 0.234631, 0.229179, 0.223819, 0.218549, 0.213369, 0.208277, 0.203275, 0.19836, 0.193533, 0.188793, 0.18414, 0.179571, 0.175088, 0.170689, 0.166373, 0.162141, 0.15799, 0.15392, 0.149932, 0.146022, 0.142192, 0.13844]]\n",
      "dv(t_end)/dv(t0):  0.13844\n"
     ]
    }
   ],
   "source": [
    "# Generate a function for forward directional derivatives:\n",
    "fwd_F = F.forward(1)\n",
    "print(fwd_F)\n",
    "\n",
    "# Select forward sensitivities\n",
    "fwd_x0 = np.array([1 if n=='v' else 0 for n in x])\n",
    "fwd_u = np.zeros(u_sim.shape)\n",
    "print('fwd_x0: ', fwd_x0)\n",
    "print('fwd_u: ', fwd_u)\n",
    "\n",
    "# Evaluate the function\n",
    "fwd_xf = fwd_F(x0=x0, u=u_sim, out_xf = xf_sim, fwd_x0 = fwd_x0, fwd_u = fwd_u)['fwd_xf']\n",
    "print('fwd_xf: ', fwd_xf)\n",
    "\n",
    "# Sensitivity of v at end w.r.t. initial v\n",
    "print('dv(t_end)/dv(t0): ', fwd_xf[x.index('v'), -1])\n"
   ]
  },
  {
   "cell_type": "markdown",
   "id": "b83bfcea",
   "metadata": {},
   "source": [
    "Forward sensitivities analysis is equivalent to what can be calculated with finite differences, but more accurately and potentially faster, especially when many sensitivity directions are calculated "
   ]
  },
  {
   "cell_type": "code",
   "execution_count": 24,
   "id": "a2115ad2",
   "metadata": {},
   "outputs": [
    {
     "name": "stdout",
     "output_type": "stream",
     "text": [
      "fwd_xf_fd:  \n",
      "[[0, 1.73472e-15, 6.93889e-15, 6.93889e-15, 6.93889e-15, 1.38778e-14, 1.38778e-14, 1.38778e-14, 2.77556e-14, 2.77556e-14, 2.77556e-14, 4.16334e-14, 5.55112e-14, 5.55112e-14, 5.55112e-14, 2.77556e-14, 2.77556e-14, 0, -2.77556e-14, -2.77556e-14, -2.77556e-14, -5.55112e-14, -5.55112e-14, -5.55112e-14, -5.55112e-14, -1.11022e-13, -1.66533e-13, -1.66533e-13, -1.66533e-13, -1.66533e-13, -2.77556e-13, -2.77556e-13, -2.77556e-13, -2.77556e-13, -3.88578e-13, -3.88578e-13, -3.33067e-13, -3.33067e-13, -3.33067e-13, -3.88578e-13, -3.88578e-13, -3.88578e-13, -3.88578e-13, -4.44089e-13, -4.44089e-13, -4.44089e-13, -4.44089e-13, -4.44089e-13, -4.44089e-13, -4.44089e-13, -3.33067e-13, -3.33067e-13, -2.22045e-13, -2.22045e-13, -2.22045e-13, -1.11022e-13, -1.11022e-13, -1.11022e-13, -1.11022e-13, -3.33067e-13, -3.33067e-13, -4.44089e-13, -4.44089e-13, -5.55112e-13, -6.66134e-13, -7.77156e-13, -7.77156e-13, -7.77156e-13, -8.88178e-13, -8.88178e-13, -1.11022e-12, -1.11022e-12, -1.22125e-12, -1.22125e-12, -1.33227e-12, -1.44329e-12, -1.55431e-12, -1.55431e-12, -1.66533e-12, -1.66533e-12, -1.88738e-12, -1.88738e-12, -1.9984e-12, -1.9984e-12, -2.22045e-12, -2.22045e-12, -2.22045e-12, -2.22045e-12, -2.22045e-12, -2.22045e-12, -2.22045e-12, -2.22045e-12, -2.22045e-12, -2.22045e-12, -2.22045e-12, -2.22045e-12, -2.22045e-12, -2.22045e-12, -2.22045e-12, -2.22045e-12, -2.22045e-12], \n",
      " [0, -0.00049491, -0.00195951, -0.00436411, -0.00767964, -0.0118777, -0.0169304, -0.0228104, -0.0294911, -0.0369462, -0.0451501, -0.0540776, -0.0637039, -0.0740049, -0.0849567, -0.0965361, -0.10872, -0.121486, -0.134812, -0.148676, -0.163057, -0.177935, -0.193287, -0.209095, -0.225338, -0.241996, -0.259052, -0.276485, -0.294277, -0.31241, -0.330866, -0.349628, -0.368678, -0.388, -0.407576, -0.42739, -0.447427, -0.46767, -0.488104, -0.508714, -0.529486, -0.550403, -0.571454, -0.592622, -0.613895, -0.635259, -0.656701, -0.678209, -0.699769, -0.72137, -0.742999, -0.764645, -0.786297, -0.807943, -0.829572, -0.851174, -0.872739, -0.894257, -0.915718, -0.937112, -0.958431, -0.979665, -1.00081, -1.02185, -1.04278, -1.06359, -1.08428, -1.10484, -1.12526, -1.14553, -1.16566, -1.18562, -1.20542, -1.22505, -1.24451, -1.26379, -1.28288, -1.30179, -1.3205, -1.33901, -1.35732, -1.37543, -1.39333, -1.41102, -1.42849, -1.44575, -1.46278, -1.4796, -1.49619, -1.51255, -1.52869, -1.5446, -1.56028, -1.57573, -1.59094, -1.60593, -1.62068, -1.63519, -1.64948, -1.66352, -1.67734], \n",
      " [0, 0, 0, 0, 0, 0, 0, 0, 0, 0, 0, 0, 0, 0, 0, 0, 0, 0, 0, 0, 0, 0, 0, 0, 0, 0, 0, 0, 0, 0, 0, 0, 0, 0, 0, 0, 0, 0, 0, 0, 0, 0, 0, 0, 0, 0, 0, 0, 0, 0, 0, 0, 0, 0, 0, 0, 0, 0, 0, 0, 0, 0, 0, 0, 0, 0, 0, 0, 0, 0, 0, 0, 0, 0, 0, 0, 0, 0, 0, 0, 0, 0, 0, 0, 0, 0, 0, 0, 0, 0, 0, 0, 0, 0, 0, 0, 0, 0, 0, 0, 0], \n",
      " [0, -2.22344e-05, -0.000126695, -0.0003676, -0.000795926, -0.00145954, -0.00240327, -0.00366885, -0.00529491, -0.00731678, -0.00976631, -0.0126716, -0.0160569, -0.0199417, -0.024341, -0.0292641, -0.0347146, -0.0406899, -0.0471801, -0.0541677, -0.0616271, -0.0695238, -0.077814, -0.0864444, -0.0953509, -0.10446, -0.113686, -0.122933, -0.132098, -0.141061, -0.1497, -0.157879, -0.165459, -0.17229, -0.178229, -0.183115, -0.186805, -0.189151, -0.19002, -0.189288, -0.186844, -0.182598, -0.176492, -0.16849, -0.158591, -0.146842, -0.133321, -0.118156, -0.101532, -0.0836731, -0.0648612, -0.0454287, -0.0257537, -0.00626098, 0.0125869, 0.030309, 0.0463915, 0.0603179, 0.0716098, 0.0797658, 0.0843811, 0.0851031, 0.0816588, 0.0738837, 0.0617442, 0.0453533, 0.0249785, 0.00105753, -0.0258096, -0.0548554, -0.0851601, -0.115672, -0.145241, -0.172652, -0.196683, -0.21615, -0.22998, -0.237268, -0.237346, -0.229843, -0.21474, -0.192407, -0.163626, -0.129593, -0.0918925, -0.0524393, -0.0134121, 0.0228922, 0.0541764, 0.0782655, 0.0933307, 0.0979706, 0.0914407, 0.0737318, 0.0456267, 0.00875707, -0.0344699, -0.0809793, -0.127224, -0.169437, -0.203964], \n",
      " [0, 0.00992359, 0.0196954, 0.0293162, 0.0387845, 0.0480967, 0.0572461, 0.0662229, 0.0750135, 0.0836003, 0.0919615, 0.100071, 0.107899, 0.115409, 0.122563, 0.129317, 0.135624, 0.141432, 0.146686, 0.151331, 0.155306, 0.158551, 0.161006, 0.162611, 0.163308, 0.163043, 0.161766, 0.159433, 0.156012, 0.15147, 0.145803, 0.139001, 0.131088, 0.122089, 0.112064, 0.101079, 0.0892348, 0.0766485, 0.0634643, 0.0498488, 0.0359939, 0.0221151, 0.0084482, -0.00474876, -0.0172004, -0.0286275, -0.0387329, -0.0472196, -0.053814, -0.0582333, -0.0602285, -0.0595826, -0.0561275, -0.049735, -0.0403462, -0.0279852, -0.0127383, 0.00521066, 0.0255729, 0.0479841, 0.0719647, 0.0969492, 0.122289, 0.147264, 0.171094, 0.192967, 0.212058, 0.227583, 0.2388, 0.245065, 0.245869, 0.240874, 0.229945, 0.213184, 0.190952, 0.163878, 0.132866, 0.0990761, 0.0638984, 0.0289045, -0.00421518, -0.0337301, -0.0579627, -0.07539, -0.08475, -0.0851461, -0.0761298, -0.0578145, -0.0308987, 0.00334926, 0.0430723, 0.085903, 0.129088, 0.169673, 0.204655, 0.231254, 0.247152, 0.250692, 0.241112, 0.218684, 0.184793], \n",
      " [1, 0.984764, 0.969754, 0.954963, 0.940385, 0.926014, 0.911844, 0.897871, 0.884087, 0.87049, 0.857073, 0.843832, 0.830763, 0.817862, 0.805125, 0.792547, 0.780125, 0.767857, 0.755738, 0.743765, 0.731936, 0.720247, 0.708696, 0.697281, 0.685999, 0.674847, 0.663825, 0.652928, 0.642156, 0.631508, 0.62098, 0.610571, 0.600281, 0.590107, 0.580048, 0.570102, 0.56027, 0.550549, 0.540938, 0.531437, 0.522044, 0.512759, 0.503581, 0.494509, 0.485542, 0.47668, 0.467922, 0.459268, 0.450717, 0.442268, 0.433921, 0.425675, 0.417531, 0.409487, 0.401543, 0.3937, 0.385956, 0.378311, 0.370765, 0.363318, 0.355969, 0.348718, 0.341565, 0.334509, 0.32755, 0.320688, 0.313923, 0.307254, 0.300681, 0.294203, 0.28782, 0.281533, 0.27534, 0.269241, 0.263236, 0.257325, 0.251506, 0.24578, 0.240146, 0.234604, 0.229154, 0.223794, 0.218524, 0.213344, 0.208253, 0.203251, 0.198337, 0.193511, 0.188771, 0.184118, 0.17955, 0.175067, 0.170669, 0.166354, 0.162121, 0.157971, 0.153902, 0.149914, 0.146005, 0.142175, 0.138423]]\n",
      "dv(t_end)/dv(t0):  0.138423\n"
     ]
    }
   ],
   "source": [
    "# Perturb initial state\n",
    "h = 1e-3\n",
    "x0_pert = x0 + h * fwd_x0\n",
    "u_pert = u_sim + h * fwd_u\n",
    "\n",
    "# Using finite differences to calculate the forward sensitivities\n",
    "xf_pert = F(x0_pert, u_pert)\n",
    "\n",
    "# Finite difference approximation\n",
    "fwd_xf_fd = (xf_pert - xf_sim) / h\n",
    "print('fwd_xf_fd: ', fwd_xf_fd)\n",
    "\n",
    "# Sensitivity of v at end w.r.t. initial v\n",
    "print('dv(t_end)/dv(t0): ', fwd_xf_fd[x.index('v'), -1])"
   ]
  },
  {
   "cell_type": "markdown",
   "id": "d1edd86f",
   "metadata": {},
   "source": [
    "## Adjoint sensitivity analysis\n",
    "Recall:\n",
    "$$\n",
    "\\underbrace{\\left[x(t^{\\text{out}}_0), x(t^{\\text{out}}_1), \\ldots, x(t^{\\text{out}}_{N-1})\\right]}_{\\texttt{xf}} = F(\\underbrace{x(t_0)}_{\\texttt{x0}}, u)\n",
    "$$\n",
    "\n",
    "With *adjoint* sensitivity analysis, we can calculate transposed Jacobian-times-vector products for the simulation problem. For the above problem, this means calculating:\n",
    "$$\n",
    "\\texttt{adj\\_x0} = \\left(\\frac{\\partial F(x(t_0), u)}{\\partial x(t_0)}\\right)^T \\, \\texttt{adj\\_xf} \\quad \\text{and} \\quad\n",
    "\\texttt{adj\\_u} = \\left(\\frac{\\partial F(x(t_0), u)}{\\partial u}\\right)^T \\, \\texttt{adj\\_xf}\n",
    "$$\n",
    "\n",
    "In CasADi, we can use the syntax *\\<CasADi function\\>.reverse($m$)* to generate a new function that calculates $m$ adjoint directional derivatives. If you embed an integrator into an optimization formulation, such calls are done internally.\n",
    "\n",
    "For our example, if we wanted to find the final velocity with respect to *all* the inputs, it could be done as follows:"
   ]
  },
  {
   "cell_type": "code",
   "execution_count": 25,
   "id": "fc6c70f0",
   "metadata": {},
   "outputs": [
    {
     "name": "stdout",
     "output_type": "stream",
     "text": [
      "adj1_F:(x0[6],u[2x101],out_xf[6x101,0nz],adj_xf[6x101])->(adj_x0[6],adj_u[2x101]) MXFunction\n",
      "adj_x0:  [1.31648, 0, 0.0249561, 0, 0, 0.138441]\n",
      "adj_u:  \n",
      "[[0, 0.0131437, 0.0131008, 0.0130569, 0.0130119, 0.0129658, 0.0129186, 0.0128704, 0.012821, 0.0127705, 0.0127189, 0.0126661, 0.0126122, 0.0125571, 0.0125008, 0.0124434, 0.0123847, 0.0123248, 0.0122637, 0.0122013, 0.0121377, 0.0120727, 0.0120065, 0.0119389, 0.01187, 0.0117998, 0.0117282, 0.0116552, 0.0115808, 0.0115049, 0.0114277, 0.0113489, 0.0112687, 0.0111869, 0.0111037, 0.0110188, 0.0109324, 0.0108444, 0.0107548, 0.0106635, 0.0105705, 0.0104758, 0.0103794, 0.0102812, 0.0101812, 0.0100794, 0.0099757, 0.00987012, 0.00976262, 0.00965313, 0.00954166, 0.00942817, 0.00931257, 0.00919487, 0.00907502, 0.00895296, 0.00882866, 0.00870208, 0.00857315, 0.00844185, 0.00830812, 0.00817189, 0.00803315, 0.00789182, 0.00774783, 0.00760117, 0.00745173, 0.00729947, 0.00714434, 0.00698625, 0.00682514, 0.00666095, 0.0064936, 0.00632303, 0.00614914, 0.00597186, 0.00579112, 0.00560683, 0.00541891, 0.00522726, 0.00503181, 0.00483245, 0.00462909, 0.0044216, 0.00420993, 0.00399391, 0.00377345, 0.00354845, 0.00331879, 0.00308434, 0.00284498, 0.00260057, 0.002351, 0.00209611, 0.00183577, 0.00156982, 0.00129811, 0.00102048, 0.000736753, 0.000446716, 0.000150327], \n",
      " [0, 0.000249568, 0.000249609, 0.000249691, 0.000249813, 0.000249972, 0.000250168, 0.000250399, 0.000250664, 0.000250961, 0.000251289, 0.000251647, 0.000252032, 0.000252443, 0.000252878, 0.000253337, 0.000253815, 0.000254313, 0.000254828, 0.000255358, 0.000255901, 0.000256453, 0.000257016, 0.000257584, 0.000258157, 0.000258732, 0.000259305, 0.000259876, 0.000260441, 0.000260999, 0.000261546, 0.000262079, 0.000262596, 0.000263094, 0.000263571, 0.000264022, 0.000264445, 0.000264837, 0.000265195, 0.000265515, 0.000265793, 0.000266027, 0.000266213, 0.000266346, 0.000266424, 0.000266443, 0.000266397, 0.000266285, 0.000266101, 0.000265841, 0.000265501, 0.000265078, 0.000264563, 0.000263955, 0.00026325, 0.000262439, 0.000261521, 0.000260489, 0.000259337, 0.000258061, 0.000256656, 0.000255112, 0.00025343, 0.000251599, 0.000249613, 0.000247469, 0.000245158, 0.000242672, 0.000240008, 0.000237156, 0.000234109, 0.00023086, 0.000227402, 0.000223727, 0.000219825, 0.000215691, 0.000211314, 0.000206686, 0.0002018, 0.000196645, 0.000191211, 0.000185491, 0.000179473, 0.000173146, 0.000166502, 0.000159526, 0.000152209, 0.00014454, 0.000136507, 0.000128098, 0.0001193, 0.0001101, 0.000100487, 9.04444e-05, 7.99605e-05, 6.90192e-05, 5.7606e-05, 4.5705e-05, 3.32996e-05, 2.03695e-05, 6.90874e-06]]\n",
      "dv(t_end)/dv(t0):  0.138441\n"
     ]
    }
   ],
   "source": [
    "# Generate a function for adjoint directional derivatives:\n",
    "adj_F = F.reverse(1)\n",
    "print(adj_F)\n",
    "\n",
    "# Select adjoint sensitivities\n",
    "adj_xf = np.zeros(xf_sim.shape)\n",
    "adj_xf[x.index('v'), -1] = 1\n",
    "\n",
    "# Evaluate the function\n",
    "res_adj_F = adj_F(x0=x0, u=u_sim, out_xf = xf_sim, adj_xf = adj_xf)\n",
    "adj_x0 = res_adj_F['adj_x0']\n",
    "adj_u = res_adj_F['adj_u']\n",
    "print('adj_x0: ', adj_x0)\n",
    "print('adj_u: ', adj_u)\n",
    "\n",
    "# Sensitivity of v at end w.r.t. initial v\n",
    "print('dv(t_end)/dv(t0): ', adj_x0[x.index('v')])"
   ]
  },
  {
   "cell_type": "markdown",
   "id": "00c85693",
   "metadata": {},
   "source": [
    "## FMI export and reimport\n",
    "\n",
    "* If you have a dynamic model expressed in CasADi symbolics, you can use CasADi to generate an FMI\n",
    "  - Possibly exported from Modelica, using Modelon Impact/OCT or Pymoca or (in development) Rumoca \n",
    "  - Extension of CasADi's C code export\n",
    "  - FMI 3.0, with efficient forward and adjoint derivative calculations\n",
    "* FMI export is a new feature in CasADi\n",
    "  - But builds on mature functionality, such as algorithmic differentiation (AD) and C code export\n",
    "  - Be prepared to use a development version of CasADi, e.g. a [nightly build](https://github.com/casadi/casadi/releases/tag/nightly-main)\n"
   ]
  },
  {
   "cell_type": "code",
   "execution_count": 26,
   "id": "2617d3cb",
   "metadata": {},
   "outputs": [],
   "source": [
    "# Install CasADi nightly build (uncomment if needed)\n",
    "#!pip install casadi-3.7.0.dev+main-cp311-none-manylinux2014_x86_64.whl"
   ]
  },
  {
   "cell_type": "markdown",
   "id": "5f6009ea",
   "metadata": {},
   "source": [
    "You may need to restart the Python kernel."
   ]
  },
  {
   "cell_type": "markdown",
   "id": "b51e19e2",
   "metadata": {},
   "source": [
    "### Race car example with FMU export\n",
    "* To use FMI export in CasADi, first construct a DaeBuilder instance symbolically by declaring model variables and adding equations.\n",
    "* If you know Modelica/FMI, the syntax should look familiar\n",
    "\n",
    "We illustrate using a CasADi implementation of the race car model from above."
   ]
  },
  {
   "cell_type": "code",
   "execution_count": 27,
   "id": "87e6415a",
   "metadata": {},
   "outputs": [
    {
     "name": "stdout",
     "output_type": "stream",
     "text": [
      "import casadi as ca\n",
      "from zipfile import ZipFile\n",
      "from pathlib import Path\n",
      "import os\n",
      "import numpy as np\n",
      "\n",
      "# Create DaeBuilder instance with symbolic representation of the model\n",
      "dae = ca.DaeBuilder('kloeser2020_casadi')\n",
      "\n",
      "# States\n",
      "s = dae.add('s', dict(start = 0, initial = 'exact', description = 'Tangential position'))\n",
      "n = dae.add('n', dict(start = 0, initial = 'exact', description = 'Normal position'))\n",
      "alpha = dae.add('alpha', dict(start = 0, initial = 'exact', description = 'Heading'))\n",
      "v = dae.add('v', dict(start = 0, initial = 'exact', description = 'Speed'))\n",
      "\n",
      "D = dae.add('D', dict(min = -1, max = 1, description = 'Duty cycle of electric motor'))\n",
      "delta = dae.add('delta', dict(min = -0.8, max = 0.8, description = 'Steering angle'))\n",
      "\n",
      "\n",
      "# Controls\n",
      "D_der = dae.add('D_der', 'input', dict(min = -20, max = 20, description = 'Rate of electric motor duty cycle'))\n",
      "delta_der = dae.add('delta_der', 'input', dict(min = -4, max = 4, description = 'Rate of steering angle'))\n",
      "\n",
      "# Outputs\n",
      "acc_long = dae.add('acc_long', 'output', dict(description = 'Longitudinal acceleration'))\n",
      "acc_lat = dae.add('acc_lat', 'output', dict(description = 'Lateral acceleration'))\n",
      "\n",
      "kappa_c = dae.add('kappa_c', dict(description = 'Central path curvature'))\n",
      "\n",
      "p_x = dae.add('p_x', 'output', dict(description = 'car x coordinate'))\n",
      "p_y = dae.add('p_y', 'output', dict(description = 'car y coordinate'))\n",
      "\n",
      "c_x = dae.add('c_x', 'output', dict(description = 'Center line x coordinate'))\n",
      "c_y = dae.add('c_y', 'output', dict(description = 'Center line y coordinate'))\n",
      "e_n_x = dae.add('e_n_x', 'output', dict(description = 'Central path normal vector, projection on world x'))\n",
      "e_n_y = dae.add('e_n_y', 'output', dict(description = 'Central path normal vector, projection on world y'))\n",
      "\n",
      "# Problem data from Table 1 of Kloeser2020\n",
      "m   = 0.043\n",
      "lr  = 0.025  # rear length\n",
      "lf  = 0.025  # front length\n",
      "cm1, cm2 = 0.28, 0.05\n",
      "cr0, cr2, cr3 = 0.006, 0.011, 5.0\n",
      "\n",
      "# Geometry and curvature\n",
      "\n",
      "def clip1(x,alpha=0.1):\n",
      "  return -ca.logsumexp(ca.vertcat(-1,-x),alpha)\n",
      "\n",
      "dae.eq(kappa_c, (-clip1(-clip1(-10*ca.sin(s)))+1)/2)\n",
      "\n",
      "\n",
      "# beta (slip-free approximation, small angle)\n",
      "beta = lr/(lr+lf) * delta\n",
      "\n",
      "# Longitudinal force\n",
      "Fx_d = (cm1 - cm2*v)*D - cr2*v**2 - cr0*ca.tanh(cr3*v)\n",
      "\n",
      "# Dynamic equations\n",
      "ds     = v*ca.cos(alpha+beta)/(1 - n*kappa_c)\n",
      "dn     = v*ca.sin(alpha+beta)\n",
      "dalpha = (v/lr)*ca.sin(beta) - kappa_c*ds\n",
      "dv     = Fx_d/m * ca.cos(beta)\n",
      "dae.eq(dae.der(s), ds)\n",
      "dae.eq(dae.der(n), dn)\n",
      "dae.eq(dae.der(alpha), dalpha)\n",
      "dae.eq(dae.der(v), dv)\n",
      "dae.eq(dae.der(D), D_der)\n",
      "dae.eq(dae.der(delta), delta_der)\n",
      "dae.disp(True)\n",
      "\n",
      "# Output equations\n",
      "dae.eq(acc_long, Fx_d/m)\n",
      "dae.eq(acc_lat, v**2/lr*ca.sin(beta) + Fx_d*ca.sin(beta) / m)\n",
      "\n",
      "\n",
      "pi = np.pi\n",
      "s_mod = ca.fmod(s,4*pi)\n",
      "gamma = ca.if_else(s_mod<pi,ca.vertcat(s_mod,0),ca.if_else(s_mod<2*pi,ca.vertcat(ca.sin(s-pi)+pi,1-ca.cos(s-pi)),ca.if_else(s_mod<3*pi,ca.vertcat(3*pi-s_mod,2),ca.vertcat(-ca.sin(s-3*pi),1+ca.cos(s-3*pi)))))\n",
      "\n",
      "e_n = ca.if_else(s_mod<pi,ca.vertcat(0,1),ca.if_else(s_mod<2*pi,ca.vertcat(-ca.sin(s-pi),ca.cos(s-pi)),ca.if_else(s_mod<3*pi,ca.vertcat(0,-1),ca.vertcat(ca.sin(s-3*pi),-ca.cos(s-3*pi)))))\n",
      "\n",
      "dae.eq(c_x, gamma[0])\n",
      "dae.eq(c_y, gamma[1])\n",
      "\n",
      "dae.eq(e_n_x, e_n[0])\n",
      "dae.eq(e_n_y, e_n[1])\n",
      "\n",
      "dae.eq(p_x, gamma[0]+n*e_n[0])\n",
      "dae.eq(p_y, gamma[1]+n*e_n[1])\n",
      "\n",
      "# Horizon length\n",
      "dae.set_start_time(0)\n",
      "dae.set_stop_time(1)\n",
      "\n",
      "# Export FMU\n",
      "fmu_files = dae.export_fmu()\n",
      "print('Generated files: {}'.format(fmu_files))\n",
      "\n",
      "# Package into an FMU\n",
      "fmudir = Path(__file__).parent / 'fmus'\n",
      "fmudir.mkdir(parents=True, exist_ok=True)\n",
      "fmu = fmudir / (dae.name() + '.fmu')\n",
      "with ZipFile(fmu, 'w') as fmufile:\n",
      "    for f, arcpath in fmu_files.items():\n",
      "      fmufile.write(f, arcname = arcpath + '/' + f)\n",
      "      os.remove(f)\n",
      "print(f'Created FMU: {fmu}')\n",
      "\n"
     ]
    }
   ],
   "source": [
    "# CasADi/DaeBuilder implementation of the Kloeser2020 model\n",
    "with open('kloeser2020.py', 'r') as myfile: print(myfile.read())"
   ]
  },
  {
   "cell_type": "markdown",
   "id": "28b07256",
   "metadata": {},
   "source": [
    "Let's run the above script to generate the FMU."
   ]
  },
  {
   "cell_type": "code",
   "execution_count": 28,
   "id": "29aca8cf",
   "metadata": {},
   "outputs": [
    {
     "name": "stdout",
     "output_type": "stream",
     "text": [
      "nx = 6, nz = 8, nq = 0, ny = 8, np = 0, nc = 0, nd = 0, nw = 7, nu = 2\n",
      "Model variables:\n",
      "  x = [s, n, alpha, v, D, delta]\n",
      "  z = [acc_long, acc_lat, p_x, p_y, c_x, c_y, e_n_x, e_n_y]\n",
      "  w = [kappa_c, der(s), der(n), der(alpha), der(v), der(D), der(delta)]\n",
      "  u = [D_der, delta_der]\n",
      "List of dependent variables (w):\n",
      "  kappa_c := @1=6.93147, @2=6.93147, ((1+(logsumexp((@1*vertcat(-1, (-(logsumexp((@2*vertcat(-1, (-(-10*sin(s))))))/@2)))))/@1))/2)\n",
      "  der(s) := ((v*cos((alpha+(0.5*delta))))/(1-(n*kappa_c)))\n",
      "  der(n) := (v*sin((alpha+(0.5*delta))))\n",
      "  der(alpha) := @1=(0.5*delta), (((v/0.025)*sin(@1))-(kappa_c*((v*cos((alpha+@1)))/(1-(n*kappa_c)))))\n",
      "  der(v) := ((((((0.28-(0.05*v))*D)-(0.011*sq(v)))-(0.006*tanh((5*v))))/0.043)*cos((0.5*delta)))\n",
      "  der(D) := D_der\n",
      "  der(delta) := delta_der\n",
      "Time derivatives of differential states (x):\n",
      "  s: der(s)\n",
      "  n: der(n)\n",
      "  alpha: der(alpha)\n",
      "  v: der(v)\n",
      "  D: der(D)\n",
      "  delta: der(delta)\n",
      "Outputs (y):\n",
      "  acc_long: acc_long\n",
      "  acc_lat: acc_lat\n",
      "  p_x: p_x\n",
      "  p_y: p_y\n",
      "  c_x: c_x\n",
      "  c_y: c_y\n",
      "  e_n_x: e_n_x\n",
      "  e_n_y: e_n_y\n",
      "Generated files: {'buildDescription.xml': 'sources', 'fmi-ls-manifest.xml': 'extra/org.casadi.fmi-ls-serialization', 'kloeser2020_casadi.c': 'sources', 'kloeser2020_casadi.h': 'sources', 'kloeser2020_casadi_wrap.c': 'sources', 'modelDescription.xml': '.', 'oracle.casadi': 'extra/org.casadi.fmi-ls-serialization'}\n",
      "Created FMU: /home/jaeandersson/projects/modelica_2025_workshop/fmus/kloeser2020_casadi.fmu\n"
     ]
    },
    {
     "name": "stderr",
     "output_type": "stream",
     "text": [
      "CasADi - 2025-09-08 17:07:20 WARNING(\"FMU generation is experimental and incomplete\") [.../casadi/core/dae_builder_internal.cpp:964]\n"
     ]
    }
   ],
   "source": [
    "run kloeser2020.py"
   ]
  },
  {
   "cell_type": "markdown",
   "id": "f289abb7",
   "metadata": {},
   "source": [
    "### FMU reimport\n",
    "\n",
    " * CasADi generated FMUs are standard FMUs ...\n",
    "   - can be used in any tool that supports FMI for model exchange, version 3.0\n",
    " * .. but *also* include the serialized CasADi expressions\n",
    "   - Permitted by the FMI standard, following the *layered standards* approach\n",
    " * If you import a CasADi generated FMU into CasADi, you get the symbolic expressions back\n",
    "   - Less overhead\n",
    "   - More derivative information, including higher order\n",
    "   - C code export\n",
    "   - Interface with tools that expect CasADi expressions, e.g. ACADOS\n",
    "\n",
    "Let's reimport the FMU produced by the kloeser2020.py script:"
   ]
  },
  {
   "cell_type": "code",
   "execution_count": 29,
   "id": "7c487cdc",
   "metadata": {},
   "outputs": [
    {
     "name": "stdout",
     "output_type": "stream",
     "text": [
      "nx = 6, nz = 0, nq = 0, ny = 8, np = 0, nc = 0, nd = 0, nw = 15, nu = 2\n",
      "Model variables:\n",
      "  x = [s, n, alpha, v, D, delta]\n",
      "  w = [acc_long, acc_lat, kappa_c, p_x, p_y, c_x, c_y, e_n_x, e_n_y, der(s), der(n), der(alpha), der(v), der(D), der(delta)]\n",
      "  u = [D_der, delta_der]\n",
      "List of dependent variables (w):\n",
      "  acc_long := (((((0.28-(0.05*v))*D)-(0.011*sq(v)))-(0.006*tanh((5*v))))/0.043)\n",
      "  acc_lat := @1=(0.5*delta), (((sq(v)/0.025)*sin(@1))+((((((0.28-(0.05*v))*D)-(0.011*sq(v)))-(0.006*tanh((5*v))))*sin(@1))/0.043))\n",
      "  kappa_c := @1=6.93147, @2=6.93147, ((1+(logsumexp((@1*vertcat(-1, (-(logsumexp((@2*vertcat(-1, (-(-10*sin(s))))))/@2)))))/@1))/2)\n",
      "  p_x := @1=fmod(s,12.5664), @2=(@1<3.14159), @3=(@1<6.28319), @4=(@1<9.42478), @5=(@1<3.14159), @6=(@1<6.28319), @7=(@1<9.42478), (((@2?vertcat(@1, 0):0)+((!@2)?((@3?vertcat((3.14159+sin((s-3.14159))), (1-cos((s-3.14159)))):0)+((!@3)?((@4?vertcat((9.42478-@1), 2):0)+((!@4)?vertcat((-sin((s-9.42478))), (1+cos((s-9.42478)))):0)):0)):0))[0]+(n*((@5?[0, 1]:0)+((!@5)?((@6?vertcat((-sin((s-3.14159))), cos((s-3.14159))):0)+((!@6)?((@7?[0, -1]:0)+((!@7)?vertcat(sin((s-9.42478)), (-cos((s-9.42478)))):0)):0)):0))[0]))\n",
      "  p_y := @1=fmod(s,12.5664), @2=(@1<3.14159), @3=(@1<6.28319), @4=(@1<9.42478), @5=(@1<3.14159), @6=(@1<6.28319), @7=(@1<9.42478), (((@2?vertcat(@1, 0):0)+((!@2)?((@3?vertcat((3.14159+sin((s-3.14159))), (1-cos((s-3.14159)))):0)+((!@3)?((@4?vertcat((9.42478-@1), 2):0)+((!@4)?vertcat((-sin((s-9.42478))), (1+cos((s-9.42478)))):0)):0)):0))[1]+(n*((@5?[0, 1]:0)+((!@5)?((@6?vertcat((-sin((s-3.14159))), cos((s-3.14159))):0)+((!@6)?((@7?[0, -1]:0)+((!@7)?vertcat(sin((s-9.42478)), (-cos((s-9.42478)))):0)):0)):0))[1]))\n",
      "  c_x := @1=fmod(s,12.5664), @2=(@1<3.14159), @3=(@1<6.28319), @4=(@1<9.42478), ((@2?vertcat(@1, 0):0)+((!@2)?((@3?vertcat((3.14159+sin((s-3.14159))), (1-cos((s-3.14159)))):0)+((!@3)?((@4?vertcat((9.42478-@1), 2):0)+((!@4)?vertcat((-sin((s-9.42478))), (1+cos((s-9.42478)))):0)):0)):0))[0]\n",
      "  c_y := @1=fmod(s,12.5664), @2=(@1<3.14159), @3=(@1<6.28319), @4=(@1<9.42478), ((@2?vertcat(@1, 0):0)+((!@2)?((@3?vertcat((3.14159+sin((s-3.14159))), (1-cos((s-3.14159)))):0)+((!@3)?((@4?vertcat((9.42478-@1), 2):0)+((!@4)?vertcat((-sin((s-9.42478))), (1+cos((s-9.42478)))):0)):0)):0))[1]\n",
      "  e_n_x := @1=fmod(s,12.5664), @2=(@1<3.14159), @3=(@1<6.28319), @4=(@1<9.42478), ((@2?[0, 1]:0)+((!@2)?((@3?vertcat((-sin((s-3.14159))), cos((s-3.14159))):0)+((!@3)?((@4?[0, -1]:0)+((!@4)?vertcat(sin((s-9.42478)), (-cos((s-9.42478)))):0)):0)):0))[0]\n",
      "  e_n_y := @1=fmod(s,12.5664), @2=(@1<3.14159), @3=(@1<6.28319), @4=(@1<9.42478), ((@2?[0, 1]:0)+((!@2)?((@3?vertcat((-sin((s-3.14159))), cos((s-3.14159))):0)+((!@3)?((@4?[0, -1]:0)+((!@4)?vertcat(sin((s-9.42478)), (-cos((s-9.42478)))):0)):0)):0))[1]\n",
      "  der(s) := ((v*cos((alpha+(0.5*delta))))/(1-(n*kappa_c)))\n",
      "  der(n) := (v*sin((alpha+(0.5*delta))))\n",
      "  der(alpha) := @1=(0.5*delta), (((v/0.025)*sin(@1))-(kappa_c*((v*cos((alpha+@1)))/(1-(n*kappa_c)))))\n",
      "  der(v) := ((((((0.28-(0.05*v))*D)-(0.011*sq(v)))-(0.006*tanh((5*v))))/0.043)*cos((0.5*delta)))\n",
      "  der(D) := D_der\n",
      "  der(delta) := delta_der\n",
      "Time derivatives of differential states (x):\n",
      "  s: der(s)\n",
      "  n: der(n)\n",
      "  alpha: der(alpha)\n",
      "  v: der(v)\n",
      "  D: der(D)\n",
      "  delta: der(delta)\n",
      "Outputs (y):\n",
      "  acc_long: acc_long\n",
      "  acc_lat: acc_lat\n",
      "  p_x: p_x\n",
      "  p_y: p_y\n",
      "  c_x: c_x\n",
      "  c_y: c_y\n",
      "  e_n_x: e_n_x\n",
      "  e_n_y: e_n_y\n"
     ]
    }
   ],
   "source": [
    "# Import a CasADi generated FMU \n",
    "dae_ca = ca.DaeBuilder('racecar_ca', 'fmus/kloeser2020_casadi.fmu')\n",
    "dae_ca.disp(True)"
   ]
  },
  {
   "cell_type": "markdown",
   "id": "33f4dec4",
   "metadata": {},
   "source": [
    "For DaeBuilder instances that contain the symbolic representation, the `create` function will return a symbolic CasADi function (`MXFunction`) instead of an `FmuFunction`:"
   ]
  },
  {
   "cell_type": "code",
   "execution_count": 30,
   "id": "99d19cfb",
   "metadata": {},
   "outputs": [
    {
     "name": "stdout",
     "output_type": "stream",
     "text": [
      "f_ca:(x[6],u[2])->(ode[6],y[8]) MXFunction\n"
     ]
    }
   ],
   "source": [
    "f_ca = dae_ca.create('f_ca', ['x', 'u'], ['ode', 'y'])\n",
    "print(f_ca)"
   ]
  },
  {
   "cell_type": "code",
   "execution_count": 31,
   "id": "498d0215",
   "metadata": {},
   "outputs": [
    {
     "name": "stdout",
     "output_type": "stream",
     "text": [
      "@1=(0.5*delta), @2=6.93147, @3=6.93147, @4=((1+(logsumexp((@2*vertcat(-1, (-(logsumexp((@3*vertcat(-1, (-(-10*sin(s))))))/@3)))))/@2))/2), @5=((v*cos((alpha+@1)))/(1-(n*@4))), vertcat(@5, (v*sin((alpha+@1))), (((v/0.025)*sin(@1))-(@4*@5)), ((((((0.28-(0.05*v))*D)-(0.011*sq(v)))-(0.006*tanh((5*v))))/0.043)*cos(@1)), D_der, delta_der)\n"
     ]
    }
   ],
   "source": [
    "# Note how f_ca is a regular CasADi function, so we could for example extract the expressions\n",
    "[x_ex, u_ex] = f_ca.mx_in()\n",
    "[ode_ex, y_ex] = f_ca.call([x_ex, u_ex])\n",
    "\n",
    "print(ode_ex)\n"
   ]
  },
  {
   "cell_type": "markdown",
   "id": "dabd2846",
   "metadata": {},
   "source": [
    "## Event support (Work-in-progress)\n",
    "\n",
    "Currently working to extend the CasADi FMI support to handle system with events:\n",
    "  * Main challenge: Extending CasADi sensitivity analysis to handle events\n",
    "\n",
    "Example: Exporting the bouncing ball from CasADi:"
   ]
  },
  {
   "cell_type": "code",
   "execution_count": 32,
   "id": "04c7376b",
   "metadata": {},
   "outputs": [
    {
     "name": "stdout",
     "output_type": "stream",
     "text": [
      "nx = 2, nz = 0, nq = 0, ny = 2, np = 0, nc = 0, nd = 0, nw = 2, nu = 0\n",
      "Model variables:\n",
      "  t = [t]\n",
      "  x = [h, v]\n",
      "  w = [der(h), der(v)]\n",
      "List of dependent variables (w):\n",
      "  der(h) := v\n",
      "  der(v) := -9.81\n",
      "Time derivatives of differential states (x):\n",
      "  h: der(h)\n",
      "  v: der(v)\n",
      "Outputs (y):\n",
      "  h: h\n",
      "  v: v\n",
      "nx = 2, nz = 0, nq = 0, ny = 2, np = 0, nc = 0, nd = 0, nw = 2, nu = 0\n",
      "Model variables:\n",
      "  t = [t]\n",
      "  x = [h, v]\n",
      "  w = [der(h), der(v)]\n",
      "List of dependent variables (w):\n",
      "  der(h) := v\n",
      "  der(v) := -9.81\n",
      "Time derivatives of differential states (x):\n",
      "  h: der(h)\n",
      "  v: der(v)\n",
      "Outputs (y):\n",
      "  h: h\n",
      "  v: v\n",
      "When equations:\n",
      "  when h < 0 : \n",
      "    v := (-0.8*v)\n"
     ]
    },
    {
     "name": "stderr",
     "output_type": "stream",
     "text": [
      "CasADi - 2025-09-08 17:07:21 WARNING(\"DaeBuilder::pre has not been implemented: Returning identity mapping\") [.../casadi/core/dae_builder.cpp:833]\n",
      "CasADi - 2025-09-08 17:07:21 WARNING(\"Event support is experimental\") [.../casadi/core/integrator.cpp:752]\n"
     ]
    },
    {
     "data": {
      "image/png": "[encoded data removed]",
      "text/plain": [
       "<Figure size 640x480 with 1 Axes>"
      ]
     },
     "metadata": {},
     "output_type": "display_data"
    }
   ],
   "source": [
    "# Start with an empty DaeBuilder instance\n",
    "bb = ca.DaeBuilder('bouncing_ball')\n",
    "\n",
    "# Model variables\n",
    "t = bb.add('t', 'independent')\n",
    "h = bb.add('h', 'output', dict(start = 5, initial = 'exact'))\n",
    "v = bb.add('v', 'output', dict(start = 0, initial = 'exact'))\n",
    "\n",
    "# Dynamic equations\n",
    "bb.eq(bb.der(h), v)\n",
    "bb.eq(bb.der(v), -9.81)\n",
    "bb.disp(True)\n",
    "\n",
    "# Event dynamics: When h < 0, reinitialize v to -0.8*v\n",
    "bb.when(h < 0, [bb.reinit('v', -0.8*bb.pre(v))])\n",
    "bb.disp(True)\n",
    "\n",
    "# Simulate over 7s\n",
    "tgrid = np.linspace(0, 7, 100)\n",
    "sim = ca.integrator('sim', 'cvodes', bb.create(), 0, tgrid,\n",
    "                    dict(transition = bb.transition()))\n",
    "simres = sim(x0 = bb.start(bb.x()))\n",
    "\n",
    "# Visualize the solution\n",
    "plt.figure(1)\n",
    "plt.clf()\n",
    "plt.plot(tgrid, simres['xf'][0, :].T)\n",
    "plt.grid()\n",
    "plt.show()\n"
   ]
  },
  {
   "cell_type": "markdown",
   "id": "98cf8e74",
   "metadata": {},
   "source": [
    "* Can be exported as FMU and simulated with e.g. FMPy - see CasADi examples collection\n",
    "* Proof-of-concept support for analytical sensitivity calculations, embedding in optimization problems\n",
    "* For details, see paper from the [American Modelica Conference, 2024](https://ecp.ep.liu.se/index.php/modelica/article/view/1135)"
   ]
  },
  {
   "cell_type": "markdown",
   "id": "64cf593e",
   "metadata": {},
   "source": [
    "## New high-level software framework: FMIOPT\n",
    " * New, higher level FMI optimization framework\n",
    "   - CasADi knowledge not necessary\n",
    " * In development since 2024 together with a motorsports partner\n",
    " * Commercial (closed source) framework, builds on CasADi FMI interoperability\n",
    " * Key goals:\n",
    "   - Enable efficient user workflows that start with existing (imperfect) simulation models\n",
    "   - State-of-the-art diagnostics: User should get correct answer or *actionable* diagnostics\n",
    "   - Numerical efficiency, cloud deployment\n",
    "   - *Scalability* of both numerical solution workflows and of support/diagnostics\n",
    " * Supported by new Norwegian company: FMIOPT AS\n",
    " * Contact joel@fmiopt.com if your company is interested in becoming a pilot user\n",
    " * Public announcement with details in 2026"
   ]
  },
  {
   "cell_type": "markdown",
   "id": "0b19ed90",
   "metadata": {},
   "source": [
    "##"
   ]
  }
 ],
 "metadata": {
  "kernelspec": {
   "display_name": "Python 3 (ipykernel)",
   "language": "python",
   "name": "python3"
  },
  "language_info": {
   "codemirror_mode": {
    "name": "ipython",
    "version": 3
   },
   "file_extension": ".py",
   "mimetype": "text/x-python",
   "name": "python",
   "nbconvert_exporter": "python",
   "pygments_lexer": "ipython3",
   "version": "3.11.0"
  }
 },
 "nbformat": 4,
 "nbformat_minor": 5
}
